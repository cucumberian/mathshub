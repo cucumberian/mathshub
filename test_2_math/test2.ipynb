{
 "cells": [
  {
   "cell_type": "markdown",
   "metadata": {},
   "source": [
    "#### Задача №1\n",
    "\n",
    "Дискретная случайна величина X описана следующим законом распределения:\n",
    "| xi | -5 | -1 | 4 | 6 | 8 |\n",
    "|---|:---:|:---:|:---:|:---:|:---:|\n",
    "| pi| 0.1 | 3p | 0.2 | p | 0.3 |\n",
    "\n",
    "Необходимо найти p. Ответ можно давать через запятую или точку"
   ]
  },
  {
   "cell_type": "markdown",
   "metadata": {},
   "source": [
    "```\n",
    "Сумма всех веротяностей равна 1.\n",
    "0.1 + 3*p + 0.2 + p + 0.3 = 1\n",
    "p = 0.1\n",
    "```"
   ]
  },
  {
   "cell_type": "markdown",
   "metadata": {},
   "source": [
    "#### Задача №2\n",
    "\n",
    "Для той же таблицы распределения дискретной случайной величины X найти математическое ожидание: \n",
    "\n",
    "| xi | -5 | -1 | 4 | 6 | 8 |\n",
    "|---|:---:|:---:|:---:|:---:|:---:|\n",
    "| pi| 0.1 | 3p | 0.2 | p | 0.3 |\n"
   ]
  },
  {
   "cell_type": "code",
   "execution_count": 1,
   "metadata": {},
   "outputs": [
    {
     "data": {
      "text/plain": [
       "3.0"
      ]
     },
     "execution_count": 1,
     "metadata": {},
     "output_type": "execute_result"
    }
   ],
   "source": [
    "E = -5 * 0.1 + (-1)*0.3 + 4*0.2 + 6*0.1 + 8*0.3\n",
    "E"
   ]
  },
  {
   "cell_type": "markdown",
   "metadata": {},
   "source": [
    "\n",
    "#### Задача №3\n",
    "\n",
    "Дискретная случайная величина X описана следующим законом распределения:\n",
    "| xi | -5 | -3 | x |\n",
    "|----|:--:|:--:|:-:|\n",
    "| pi | 0,5|\t0,3|0,2|\n",
    "\n",
    "Известно, что M(X) = -2\n",
    "\n",
    "Необходимо найти x\n"
   ]
  },
  {
   "cell_type": "markdown",
   "metadata": {},
   "source": [
    "```\n",
    "E(x) оно же мат ожидание M(x)\n",
    "E(x) = x1*p1 + x2*p2 + ... + xn*pn = -2\n",
    "-2 = -5 * 0.5 - 3*0.3 + x*0.2\n",
    "x = (-2 + 2.5 + 0.9) / 0.2\n",
    "Подставляем значения и получаем, что x = 7\n",
    "```"
   ]
  },
  {
   "cell_type": "markdown",
   "metadata": {},
   "source": [
    "#### Задача №4\n",
    "\n",
    "Дано, что 20% собранной клубники служба контроля качества отправляет на переработку. \n",
    "\n",
    "На проверку поступили 5 ягод клубники. \n",
    "\n",
    "Случайная величина X – количество ягод клубники (из этих пяти штук), отправленных в переработку.\n",
    "\n",
    "| X | 0 | 1 | 2 | 3 | 4 | 5 |\n",
    "|---|:-:|:-:|:-:|:-:|:-:|:-:|\n",
    "| p | 0,32768 | 0,4096 | 0,2048 | 0,0512 |0,0064 | 0,00032 |\n",
    "\n",
    "\n",
    "Определить тип распределения случайной величины.\n",
    "\n",
    "- нормальное распределение\n",
    "- биномиальное распределение\n",
    "- распределение Пуассона\n",
    "- равномерное распределение\n"
   ]
  },
  {
   "cell_type": "code",
   "execution_count": 13,
   "metadata": {},
   "outputs": [
    {
     "data": {
      "text/plain": [
       "<seaborn.axisgrid.FacetGrid at 0x7fc1f75f0bb0>"
      ]
     },
     "execution_count": 13,
     "metadata": {},
     "output_type": "execute_result"
    },
    {
     "data": {
      "image/png": "[encoded data removed]",
      "text/plain": [
       "<Figure size 500x500 with 1 Axes>"
      ]
     },
     "metadata": {},
     "output_type": "display_data"
    }
   ],
   "source": [
    "# строю график биномиального распределения с n=5 и p=0.2\n",
    "import numpy, seaborn as sns\n",
    "berries = numpy.random.binomial(n=5, p=0.2, size=1000)\n",
    "sns.displot(data=berries, discrete=True, stat='probability')\n",
    "\n",
    "# график совпадает с теми веротяностями, что у нас, \n",
    "# можно их отельно посчитать через scipy.stats.binomial.pdf(), но нет смысла"
   ]
  },
  {
   "cell_type": "markdown",
   "metadata": {},
   "source": [
    "#### Задача №5\n",
    "\n",
    "Для задачи №4 вычислите математическое ожидание"
   ]
  },
  {
   "cell_type": "code",
   "execution_count": 5,
   "metadata": {},
   "outputs": [
    {
     "data": {
      "text/plain": [
       "1.0"
      ]
     },
     "execution_count": 5,
     "metadata": {},
     "output_type": "execute_result"
    }
   ],
   "source": [
    "# Можно по фрмуле для матожидания\n",
    "M = 0 * 0.32768 + 1 * 0.4096 + 2 * 0.2048 + 3 * 0.0512 + 4 * 0.0064 + 5 * 0.00032\n",
    "M = 1\n",
    "\n",
    "# Или если знаем что это биномиальное распредеение, то умножаем n на p = 5 * 0.2 = 1"
   ]
  }
 ],
 "metadata": {
  "kernelspec": {
   "display_name": "Python 3.10.6 ('venv': venv)",
   "language": "python",
   "name": "python3"
  },
  "language_info": {
   "codemirror_mode": {
    "name": "ipython",
    "version": 3
   },
   "file_extension": ".py",
   "mimetype": "text/x-python",
   "name": "python",
   "nbconvert_exporter": "python",
   "pygments_lexer": "ipython3",
   "version": "3.10.6"
  },
  "orig_nbformat": 4,
  "vscode": {
   "interpreter": {
    "hash": "5a6b91c7aa0c8326d7edd5ede65653eba97e12724c7b3fea1ca07b709ad466a5"
   }
  }
 },
 "nbformat": 4,
 "nbformat_minor": 2
}
