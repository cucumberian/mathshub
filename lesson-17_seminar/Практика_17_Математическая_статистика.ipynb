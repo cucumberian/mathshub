{
  "nbformat": 4,
  "nbformat_minor": 0,
  "metadata": {
    "colab": {
      "provenance": []
    },
    "kernelspec": {
      "name": "python3",
      "display_name": "Python 3"
    },
    "language_info": {
      "name": "python"
    }
  },
  "cells": [
    {
      "cell_type": "markdown",
      "source": [
        "# Математическая статистика"
      ],
      "metadata": {
        "id": "1WFFKUnzV5co"
      }
    },
    {
      "cell_type": "markdown",
      "source": [
        "## Boxblot"
      ],
      "metadata": {
        "id": "Nb15U8XpWSlc"
      }
    },
    {
      "cell_type": "code",
      "source": [
        "import seaborn as sns"
      ],
      "metadata": {
        "id": "-_Z122mYWR6r"
      },
      "execution_count": null,
      "outputs": []
    },
    {
      "cell_type": "code",
      "execution_count": null,
      "metadata": {
        "id": "DnBVF1-TVNlT"
      },
      "outputs": [],
      "source": [
        "tips = sns.load_dataset(\"tips\")"
      ]
    },
    {
      "cell_type": "code",
      "source": [
        "tips.info()"
      ],
      "metadata": {
        "colab": {
          "base_uri": "https://localhost:8080/"
        },
        "id": "5P3afNDTYApa",
        "outputId": "a3a1f8bf-d473-4615-9a30-4c74d1d8b2a1"
      },
      "execution_count": null,
      "outputs": [
        {
          "output_type": "stream",
          "name": "stdout",
          "text": [
            "<class 'pandas.core.frame.DataFrame'>\n",
            "RangeIndex: 244 entries, 0 to 243\n",
            "Data columns (total 7 columns):\n",
            " #   Column      Non-Null Count  Dtype   \n",
            "---  ------      --------------  -----   \n",
            " 0   total_bill  244 non-null    float64 \n",
            " 1   tip         244 non-null    float64 \n",
            " 2   sex         244 non-null    category\n",
            " 3   smoker      244 non-null    category\n",
            " 4   day         244 non-null    category\n",
            " 5   time        244 non-null    category\n",
            " 6   size        244 non-null    int64   \n",
            "dtypes: category(4), float64(2), int64(1)\n",
            "memory usage: 7.4 KB\n"
          ]
        }
      ]
    },
    {
      "cell_type": "code",
      "source": [
        "tips.head()"
      ],
      "metadata": {
        "colab": {
          "base_uri": "https://localhost:8080/",
          "height": 206
        },
        "id": "r5I2SH3aX7Jl",
        "outputId": "4c5b6e90-2b50-45f4-8e73-bdca1886f727"
      },
      "execution_count": null,
      "outputs": [
        {
          "output_type": "execute_result",
          "data": {
            "text/plain": [
              "   total_bill   tip     sex smoker  day    time  size\n",
              "0       16.99  1.01  Female     No  Sun  Dinner     2\n",
              "1       10.34  1.66    Male     No  Sun  Dinner     3\n",
              "2       21.01  3.50    Male     No  Sun  Dinner     3\n",
              "3       23.68  3.31    Male     No  Sun  Dinner     2\n",
              "4       24.59  3.61  Female     No  Sun  Dinner     4"
            ],
            "text/html": [
              "\n",
              "  <div id=\"df-692125cb-1e7d-462c-9017-4cc9b430a5c4\">\n",
              "    <div class=\"colab-df-container\">\n",
              "      <div>\n",
              "<style scoped>\n",
              "    .dataframe tbody tr th:only-of-type {\n",
              "        vertical-align: middle;\n",
              "    }\n",
              "\n",
              "    .dataframe tbody tr th {\n",
              "        vertical-align: top;\n",
              "    }\n",
              "\n",
              "    .dataframe thead th {\n",
              "        text-align: right;\n",
              "    }\n",
              "</style>\n",
              "<table border=\"1\" class=\"dataframe\">\n",
              "  <thead>\n",
              "    <tr style=\"text-align: right;\">\n",
              "      <th></th>\n",
              "      <th>total_bill</th>\n",
              "      <th>tip</th>\n",
              "      <th>sex</th>\n",
              "      <th>smoker</th>\n",
              "      <th>day</th>\n",
              "      <th>time</th>\n",
              "      <th>size</th>\n",
              "    </tr>\n",
              "  </thead>\n",
              "  <tbody>\n",
              "    <tr>\n",
              "      <th>0</th>\n",
              "      <td>16.99</td>\n",
              "      <td>1.01</td>\n",
              "      <td>Female</td>\n",
              "      <td>No</td>\n",
              "      <td>Sun</td>\n",
              "      <td>Dinner</td>\n",
              "      <td>2</td>\n",
              "    </tr>\n",
              "    <tr>\n",
              "      <th>1</th>\n",
              "      <td>10.34</td>\n",
              "      <td>1.66</td>\n",
              "      <td>Male</td>\n",
              "      <td>No</td>\n",
              "      <td>Sun</td>\n",
              "      <td>Dinner</td>\n",
              "      <td>3</td>\n",
              "    </tr>\n",
              "    <tr>\n",
              "      <th>2</th>\n",
              "      <td>21.01</td>\n",
              "      <td>3.50</td>\n",
              "      <td>Male</td>\n",
              "      <td>No</td>\n",
              "      <td>Sun</td>\n",
              "      <td>Dinner</td>\n",
              "      <td>3</td>\n",
              "    </tr>\n",
              "    <tr>\n",
              "      <th>3</th>\n",
              "      <td>23.68</td>\n",
              "      <td>3.31</td>\n",
              "      <td>Male</td>\n",
              "      <td>No</td>\n",
              "      <td>Sun</td>\n",
              "      <td>Dinner</td>\n",
              "      <td>2</td>\n",
              "    </tr>\n",
              "    <tr>\n",
              "      <th>4</th>\n",
              "      <td>24.59</td>\n",
              "      <td>3.61</td>\n",
              "      <td>Female</td>\n",
              "      <td>No</td>\n",
              "      <td>Sun</td>\n",
              "      <td>Dinner</td>\n",
              "      <td>4</td>\n",
              "    </tr>\n",
              "  </tbody>\n",
              "</table>\n",
              "</div>\n",
              "      <button class=\"colab-df-convert\" onclick=\"convertToInteractive('df-692125cb-1e7d-462c-9017-4cc9b430a5c4')\"\n",
              "              title=\"Convert this dataframe to an interactive table.\"\n",
              "              style=\"display:none;\">\n",
              "        \n",
              "  <svg xmlns=\"http://www.w3.org/2000/svg\" height=\"24px\"viewBox=\"0 0 24 24\"\n",
              "       width=\"24px\">\n",
              "    <path d=\"M0 0h24v24H0V0z\" fill=\"none\"/>\n",
              "    <path d=\"M18.56 5.44l.94 2.06.94-2.06 2.06-.94-2.06-.94-.94-2.06-.94 2.06-2.06.94zm-11 1L8.5 8.5l.94-2.06 2.06-.94-2.06-.94L8.5 2.5l-.94 2.06-2.06.94zm10 10l.94 2.06.94-2.06 2.06-.94-2.06-.94-.94-2.06-.94 2.06-2.06.94z\"/><path d=\"M17.41 7.96l-1.37-1.37c-.4-.4-.92-.59-1.43-.59-.52 0-1.04.2-1.43.59L10.3 9.45l-7.72 7.72c-.78.78-.78 2.05 0 2.83L4 21.41c.39.39.9.59 1.41.59.51 0 1.02-.2 1.41-.59l7.78-7.78 2.81-2.81c.8-.78.8-2.07 0-2.86zM5.41 20L4 18.59l7.72-7.72 1.47 1.35L5.41 20z\"/>\n",
              "  </svg>\n",
              "      </button>\n",
              "      \n",
              "  <style>\n",
              "    .colab-df-container {\n",
              "      display:flex;\n",
              "      flex-wrap:wrap;\n",
              "      gap: 12px;\n",
              "    }\n",
              "\n",
              "    .colab-df-convert {\n",
              "      background-color: #E8F0FE;\n",
              "      border: none;\n",
              "      border-radius: 50%;\n",
              "      cursor: pointer;\n",
              "      display: none;\n",
              "      fill: #1967D2;\n",
              "      height: 32px;\n",
              "      padding: 0 0 0 0;\n",
              "      width: 32px;\n",
              "    }\n",
              "\n",
              "    .colab-df-convert:hover {\n",
              "      background-color: #E2EBFA;\n",
              "      box-shadow: 0px 1px 2px rgba(60, 64, 67, 0.3), 0px 1px 3px 1px rgba(60, 64, 67, 0.15);\n",
              "      fill: #174EA6;\n",
              "    }\n",
              "\n",
              "    [theme=dark] .colab-df-convert {\n",
              "      background-color: #3B4455;\n",
              "      fill: #D2E3FC;\n",
              "    }\n",
              "\n",
              "    [theme=dark] .colab-df-convert:hover {\n",
              "      background-color: #434B5C;\n",
              "      box-shadow: 0px 1px 3px 1px rgba(0, 0, 0, 0.15);\n",
              "      filter: drop-shadow(0px 1px 2px rgba(0, 0, 0, 0.3));\n",
              "      fill: #FFFFFF;\n",
              "    }\n",
              "  </style>\n",
              "\n",
              "      <script>\n",
              "        const buttonEl =\n",
              "          document.querySelector('#df-692125cb-1e7d-462c-9017-4cc9b430a5c4 button.colab-df-convert');\n",
              "        buttonEl.style.display =\n",
              "          google.colab.kernel.accessAllowed ? 'block' : 'none';\n",
              "\n",
              "        async function convertToInteractive(key) {\n",
              "          const element = document.querySelector('#df-692125cb-1e7d-462c-9017-4cc9b430a5c4');\n",
              "          const dataTable =\n",
              "            await google.colab.kernel.invokeFunction('convertToInteractive',\n",
              "                                                     [key], {});\n",
              "          if (!dataTable) return;\n",
              "\n",
              "          const docLinkHtml = 'Like what you see? Visit the ' +\n",
              "            '<a target=\"_blank\" href=https://colab.research.google.com/notebooks/data_table.ipynb>data table notebook</a>'\n",
              "            + ' to learn more about interactive tables.';\n",
              "          element.innerHTML = '';\n",
              "          dataTable['output_type'] = 'display_data';\n",
              "          await google.colab.output.renderOutput(dataTable, element);\n",
              "          const docLink = document.createElement('div');\n",
              "          docLink.innerHTML = docLinkHtml;\n",
              "          element.appendChild(docLink);\n",
              "        }\n",
              "      </script>\n",
              "    </div>\n",
              "  </div>\n",
              "  "
            ]
          },
          "metadata": {},
          "execution_count": 3
        }
      ]
    },
    {
      "cell_type": "code",
      "source": [
        "sns.set(rc={'figure.figsize':(11.7,8.27)})"
      ],
      "metadata": {
        "id": "S1QZiJyoZbok"
      },
      "execution_count": null,
      "outputs": []
    },
    {
      "cell_type": "code",
      "source": [
        "sns.boxplot(x = 'day', y = 'total_bill', data = tips)"
      ],
      "metadata": {
        "colab": {
          "base_uri": "https://localhost:8080/",
          "height": 535
        },
        "id": "l7XTAO_oX9C8",
        "outputId": "9076f7fc-177b-4208-c65c-e19aa3b917e6"
      },
      "execution_count": null,
      "outputs": [
        {
          "output_type": "execute_result",
          "data": {
            "text/plain": [
              "<matplotlib.axes._subplots.AxesSubplot at 0x7efff111aa90>"
            ]
          },
          "metadata": {},
          "execution_count": 10
        },
        {
          "output_type": "display_data",
          "data": {
            "text/plain": [
              "<Figure size 842.4x595.44 with 1 Axes>"
            ],
            "image/png": "[encoded data removed]"
          },
          "metadata": {}
        }
      ]
    },
    {
      "cell_type": "markdown",
      "source": [
        "![tips_boxplo.png](data:image/png;base64,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)"
      ],
      "metadata": {
        "id": "iNHQ0yp6axCn"
      }
    },
    {
      "cell_type": "markdown",
      "source": [
        "### Перцентиль против Квантиля против Квартиля"
      ],
      "metadata": {
        "id": "cpe0QnOgdFYp"
      }
    },
    {
      "cell_type": "markdown",
      "source": [
        "*   **Перцентиль** - от 0 до 100\n",
        "*   **Квартиль** - от 0 до 4\n",
        "* **Квантиль** - диапазон от любого значения до другого любого значения\n",
        "* Процентили и квартили - это типы квантилей\n",
        "\n",
        "\n"
      ],
      "metadata": {
        "id": "mop1nhccdPru"
      }
    },
    {
      "cell_type": "markdown",
      "source": [
        "*   0 процентиль = 0 квартиль (минимум)\n",
        "*   25 процентиль = 1-ый квартиль\n",
        "* 50 процентиль = 2-ой квартиль (медиана)\n",
        "* 75 процентиль = 3-ий квартиль\n",
        "* 100 процентиль = 4-ый квартиль (макcимум)\n",
        "\n"
      ],
      "metadata": {
        "id": "xjedsMuqdz89"
      }
    },
    {
      "cell_type": "markdown",
      "source": [
        "### Межквартильный метод"
      ],
      "metadata": {
        "id": "eugau53Re7Yc"
      }
    },
    {
      "cell_type": "markdown",
      "source": [
        "**Interquartile Range или IQR**  \n",
        "IQR определяет средние 50% данных или иначе - тело данных  \n",
        "IQR = Q3 -- Q1 (Q3 - 75 процентиль, Q1 - 25 процентиль)"
      ],
      "metadata": {
        "id": "nA7mmy7XfCLj"
      }
    },
    {
      "cell_type": "code",
      "source": [
        "tips['total_bill'].quantile(0.5)"
      ],
      "metadata": {
        "colab": {
          "base_uri": "https://localhost:8080/"
        },
        "id": "YGzMpeO8ZB3e",
        "outputId": "f8290841-0718-40f9-f7f1-595271015212"
      },
      "execution_count": null,
      "outputs": [
        {
          "output_type": "execute_result",
          "data": {
            "text/plain": [
              "17.795"
            ]
          },
          "metadata": {},
          "execution_count": 11
        }
      ]
    },
    {
      "cell_type": "code",
      "source": [
        "tips['total_bill'].quantile(0.25)"
      ],
      "metadata": {
        "colab": {
          "base_uri": "https://localhost:8080/"
        },
        "id": "_WGriHgBgL9_",
        "outputId": "87eb3133-2416-45ab-9ab9-b2bddbd7a09c"
      },
      "execution_count": null,
      "outputs": [
        {
          "output_type": "execute_result",
          "data": {
            "text/plain": [
              "13.3475"
            ]
          },
          "metadata": {},
          "execution_count": 12
        }
      ]
    },
    {
      "cell_type": "code",
      "source": [
        "tips['total_bill'].quantile(0.75)"
      ],
      "metadata": {
        "colab": {
          "base_uri": "https://localhost:8080/"
        },
        "id": "YDcgs0l3gTk5",
        "outputId": "9a7cdc53-e4b4-4f0c-e05d-e511c6bcd808"
      },
      "execution_count": null,
      "outputs": [
        {
          "output_type": "execute_result",
          "data": {
            "text/plain": [
              "24.127499999999998"
            ]
          },
          "metadata": {},
          "execution_count": 13
        }
      ]
    },
    {
      "cell_type": "code",
      "source": [
        "tips['total_bill'].quantile(0.75) - tips['total_bill'].quantile(0.25)"
      ],
      "metadata": {
        "colab": {
          "base_uri": "https://localhost:8080/"
        },
        "id": "k3zbrw9RgWMh",
        "outputId": "9fc3b579-76a9-4967-b1a7-ae7e407a9bf5"
      },
      "execution_count": null,
      "outputs": [
        {
          "output_type": "execute_result",
          "data": {
            "text/plain": [
              "10.779999999999998"
            ]
          },
          "metadata": {},
          "execution_count": 14
        }
      ]
    },
    {
      "cell_type": "markdown",
      "source": [
        "### Выбросы - как избавиться от них в наборе данных?"
      ],
      "metadata": {
        "id": "EWpk441dhc1_"
      }
    },
    {
      "cell_type": "markdown",
      "source": [
        "\n",
        "\n",
        "*   Q1 − 1.5 IQR\n",
        "*   Q3 + 1.5 IQR\n",
        "\n"
      ],
      "metadata": {
        "id": "YxiSqOXVhoXE"
      }
    },
    {
      "cell_type": "code",
      "source": [
        "import numpy as np"
      ],
      "metadata": {
        "id": "gmiZdyVmhn0Q"
      },
      "execution_count": null,
      "outputs": []
    },
    {
      "cell_type": "code",
      "source": [
        "q1 = np.percentile(tips['total_bill'], 25)\n",
        "q3 = np.percentile(tips['total_bill'], 75)\n",
        "\n",
        "iqr = q3 - q1\n",
        "print(f'Q1 = {q1}, Q3 = {q3}, IQR = {iqr}')"
      ],
      "metadata": {
        "colab": {
          "base_uri": "https://localhost:8080/"
        },
        "id": "8oOR1V_fnnlj",
        "outputId": "cc4b39af-807c-44bb-a705-3cee5065c216"
      },
      "execution_count": null,
      "outputs": [
        {
          "output_type": "stream",
          "name": "stdout",
          "text": [
            "Q1 = 13.3475, Q3 = 24.127499999999998, IQR = 10.779999999999998\n"
          ]
        }
      ]
    },
    {
      "cell_type": "code",
      "source": [
        "upper = tips[tips['total_bill'] >= (q3+1.5*iqr)]\n",
        "\n",
        "upper\n"
      ],
      "metadata": {
        "colab": {
          "base_uri": "https://localhost:8080/",
          "height": 332
        },
        "id": "nkqqvvZun-3o",
        "outputId": "fd80f3cb-cf0d-42a7-ad96-429036fefca7"
      },
      "execution_count": null,
      "outputs": [
        {
          "output_type": "execute_result",
          "data": {
            "text/plain": [
              "     total_bill    tip     sex smoker   day    time  size\n",
              "59        48.27   6.73    Male     No   Sat  Dinner     4\n",
              "102       44.30   2.50  Female    Yes   Sat  Dinner     3\n",
              "142       41.19   5.00    Male     No  Thur   Lunch     5\n",
              "156       48.17   5.00    Male     No   Sun  Dinner     6\n",
              "170       50.81  10.00    Male    Yes   Sat  Dinner     3\n",
              "182       45.35   3.50    Male    Yes   Sun  Dinner     3\n",
              "184       40.55   3.00    Male    Yes   Sun  Dinner     2\n",
              "197       43.11   5.00  Female    Yes  Thur   Lunch     4\n",
              "212       48.33   9.00    Male     No   Sat  Dinner     4"
            ],
            "text/html": [
              "\n",
              "  <div id=\"df-668e8a79-f544-468c-b514-948098f6c8ba\">\n",
              "    <div class=\"colab-df-container\">\n",
              "      <div>\n",
              "<style scoped>\n",
              "    .dataframe tbody tr th:only-of-type {\n",
              "        vertical-align: middle;\n",
              "    }\n",
              "\n",
              "    .dataframe tbody tr th {\n",
              "        vertical-align: top;\n",
              "    }\n",
              "\n",
              "    .dataframe thead th {\n",
              "        text-align: right;\n",
              "    }\n",
              "</style>\n",
              "<table border=\"1\" class=\"dataframe\">\n",
              "  <thead>\n",
              "    <tr style=\"text-align: right;\">\n",
              "      <th></th>\n",
              "      <th>total_bill</th>\n",
              "      <th>tip</th>\n",
              "      <th>sex</th>\n",
              "      <th>smoker</th>\n",
              "      <th>day</th>\n",
              "      <th>time</th>\n",
              "      <th>size</th>\n",
              "    </tr>\n",
              "  </thead>\n",
              "  <tbody>\n",
              "    <tr>\n",
              "      <th>59</th>\n",
              "      <td>48.27</td>\n",
              "      <td>6.73</td>\n",
              "      <td>Male</td>\n",
              "      <td>No</td>\n",
              "      <td>Sat</td>\n",
              "      <td>Dinner</td>\n",
              "      <td>4</td>\n",
              "    </tr>\n",
              "    <tr>\n",
              "      <th>102</th>\n",
              "      <td>44.30</td>\n",
              "      <td>2.50</td>\n",
              "      <td>Female</td>\n",
              "      <td>Yes</td>\n",
              "      <td>Sat</td>\n",
              "      <td>Dinner</td>\n",
              "      <td>3</td>\n",
              "    </tr>\n",
              "    <tr>\n",
              "      <th>142</th>\n",
              "      <td>41.19</td>\n",
              "      <td>5.00</td>\n",
              "      <td>Male</td>\n",
              "      <td>No</td>\n",
              "      <td>Thur</td>\n",
              "      <td>Lunch</td>\n",
              "      <td>5</td>\n",
              "    </tr>\n",
              "    <tr>\n",
              "      <th>156</th>\n",
              "      <td>48.17</td>\n",
              "      <td>5.00</td>\n",
              "      <td>Male</td>\n",
              "      <td>No</td>\n",
              "      <td>Sun</td>\n",
              "      <td>Dinner</td>\n",
              "      <td>6</td>\n",
              "    </tr>\n",
              "    <tr>\n",
              "      <th>170</th>\n",
              "      <td>50.81</td>\n",
              "      <td>10.00</td>\n",
              "      <td>Male</td>\n",
              "      <td>Yes</td>\n",
              "      <td>Sat</td>\n",
              "      <td>Dinner</td>\n",
              "      <td>3</td>\n",
              "    </tr>\n",
              "    <tr>\n",
              "      <th>182</th>\n",
              "      <td>45.35</td>\n",
              "      <td>3.50</td>\n",
              "      <td>Male</td>\n",
              "      <td>Yes</td>\n",
              "      <td>Sun</td>\n",
              "      <td>Dinner</td>\n",
              "      <td>3</td>\n",
              "    </tr>\n",
              "    <tr>\n",
              "      <th>184</th>\n",
              "      <td>40.55</td>\n",
              "      <td>3.00</td>\n",
              "      <td>Male</td>\n",
              "      <td>Yes</td>\n",
              "      <td>Sun</td>\n",
              "      <td>Dinner</td>\n",
              "      <td>2</td>\n",
              "    </tr>\n",
              "    <tr>\n",
              "      <th>197</th>\n",
              "      <td>43.11</td>\n",
              "      <td>5.00</td>\n",
              "      <td>Female</td>\n",
              "      <td>Yes</td>\n",
              "      <td>Thur</td>\n",
              "      <td>Lunch</td>\n",
              "      <td>4</td>\n",
              "    </tr>\n",
              "    <tr>\n",
              "      <th>212</th>\n",
              "      <td>48.33</td>\n",
              "      <td>9.00</td>\n",
              "      <td>Male</td>\n",
              "      <td>No</td>\n",
              "      <td>Sat</td>\n",
              "      <td>Dinner</td>\n",
              "      <td>4</td>\n",
              "    </tr>\n",
              "  </tbody>\n",
              "</table>\n",
              "</div>\n",
              "      <button class=\"colab-df-convert\" onclick=\"convertToInteractive('df-668e8a79-f544-468c-b514-948098f6c8ba')\"\n",
              "              title=\"Convert this dataframe to an interactive table.\"\n",
              "              style=\"display:none;\">\n",
              "        \n",
              "  <svg xmlns=\"http://www.w3.org/2000/svg\" height=\"24px\"viewBox=\"0 0 24 24\"\n",
              "       width=\"24px\">\n",
              "    <path d=\"M0 0h24v24H0V0z\" fill=\"none\"/>\n",
              "    <path d=\"M18.56 5.44l.94 2.06.94-2.06 2.06-.94-2.06-.94-.94-2.06-.94 2.06-2.06.94zm-11 1L8.5 8.5l.94-2.06 2.06-.94-2.06-.94L8.5 2.5l-.94 2.06-2.06.94zm10 10l.94 2.06.94-2.06 2.06-.94-2.06-.94-.94-2.06-.94 2.06-2.06.94z\"/><path d=\"M17.41 7.96l-1.37-1.37c-.4-.4-.92-.59-1.43-.59-.52 0-1.04.2-1.43.59L10.3 9.45l-7.72 7.72c-.78.78-.78 2.05 0 2.83L4 21.41c.39.39.9.59 1.41.59.51 0 1.02-.2 1.41-.59l7.78-7.78 2.81-2.81c.8-.78.8-2.07 0-2.86zM5.41 20L4 18.59l7.72-7.72 1.47 1.35L5.41 20z\"/>\n",
              "  </svg>\n",
              "      </button>\n",
              "      \n",
              "  <style>\n",
              "    .colab-df-container {\n",
              "      display:flex;\n",
              "      flex-wrap:wrap;\n",
              "      gap: 12px;\n",
              "    }\n",
              "\n",
              "    .colab-df-convert {\n",
              "      background-color: #E8F0FE;\n",
              "      border: none;\n",
              "      border-radius: 50%;\n",
              "      cursor: pointer;\n",
              "      display: none;\n",
              "      fill: #1967D2;\n",
              "      height: 32px;\n",
              "      padding: 0 0 0 0;\n",
              "      width: 32px;\n",
              "    }\n",
              "\n",
              "    .colab-df-convert:hover {\n",
              "      background-color: #E2EBFA;\n",
              "      box-shadow: 0px 1px 2px rgba(60, 64, 67, 0.3), 0px 1px 3px 1px rgba(60, 64, 67, 0.15);\n",
              "      fill: #174EA6;\n",
              "    }\n",
              "\n",
              "    [theme=dark] .colab-df-convert {\n",
              "      background-color: #3B4455;\n",
              "      fill: #D2E3FC;\n",
              "    }\n",
              "\n",
              "    [theme=dark] .colab-df-convert:hover {\n",
              "      background-color: #434B5C;\n",
              "      box-shadow: 0px 1px 3px 1px rgba(0, 0, 0, 0.15);\n",
              "      filter: drop-shadow(0px 1px 2px rgba(0, 0, 0, 0.3));\n",
              "      fill: #FFFFFF;\n",
              "    }\n",
              "  </style>\n",
              "\n",
              "      <script>\n",
              "        const buttonEl =\n",
              "          document.querySelector('#df-668e8a79-f544-468c-b514-948098f6c8ba button.colab-df-convert');\n",
              "        buttonEl.style.display =\n",
              "          google.colab.kernel.accessAllowed ? 'block' : 'none';\n",
              "\n",
              "        async function convertToInteractive(key) {\n",
              "          const element = document.querySelector('#df-668e8a79-f544-468c-b514-948098f6c8ba');\n",
              "          const dataTable =\n",
              "            await google.colab.kernel.invokeFunction('convertToInteractive',\n",
              "                                                     [key], {});\n",
              "          if (!dataTable) return;\n",
              "\n",
              "          const docLinkHtml = 'Like what you see? Visit the ' +\n",
              "            '<a target=\"_blank\" href=https://colab.research.google.com/notebooks/data_table.ipynb>data table notebook</a>'\n",
              "            + ' to learn more about interactive tables.';\n",
              "          element.innerHTML = '';\n",
              "          dataTable['output_type'] = 'display_data';\n",
              "          await google.colab.output.renderOutput(dataTable, element);\n",
              "          const docLink = document.createElement('div');\n",
              "          docLink.innerHTML = docLinkHtml;\n",
              "          element.appendChild(docLink);\n",
              "        }\n",
              "      </script>\n",
              "    </div>\n",
              "  </div>\n",
              "  "
            ]
          },
          "metadata": {},
          "execution_count": 20
        }
      ]
    },
    {
      "cell_type": "code",
      "source": [
        "lower = tips[tips['total_bill'] <= (q1-1.5*iqr)]\n",
        "\n",
        "lower"
      ],
      "metadata": {
        "colab": {
          "base_uri": "https://localhost:8080/",
          "height": 49
        },
        "id": "Rf_UHWhApf14",
        "outputId": "1c27d8db-1e67-448f-c064-3e0cb650307b"
      },
      "execution_count": null,
      "outputs": [
        {
          "output_type": "execute_result",
          "data": {
            "text/plain": [
              "Empty DataFrame\n",
              "Columns: [total_bill, tip, sex, smoker, day, time, size]\n",
              "Index: []"
            ],
            "text/html": [
              "\n",
              "  <div id=\"df-160d26a8-d453-471c-b2bc-0a839dd55dae\">\n",
              "    <div class=\"colab-df-container\">\n",
              "      <div>\n",
              "<style scoped>\n",
              "    .dataframe tbody tr th:only-of-type {\n",
              "        vertical-align: middle;\n",
              "    }\n",
              "\n",
              "    .dataframe tbody tr th {\n",
              "        vertical-align: top;\n",
              "    }\n",
              "\n",
              "    .dataframe thead th {\n",
              "        text-align: right;\n",
              "    }\n",
              "</style>\n",
              "<table border=\"1\" class=\"dataframe\">\n",
              "  <thead>\n",
              "    <tr style=\"text-align: right;\">\n",
              "      <th></th>\n",
              "      <th>total_bill</th>\n",
              "      <th>tip</th>\n",
              "      <th>sex</th>\n",
              "      <th>smoker</th>\n",
              "      <th>day</th>\n",
              "      <th>time</th>\n",
              "      <th>size</th>\n",
              "    </tr>\n",
              "  </thead>\n",
              "  <tbody>\n",
              "  </tbody>\n",
              "</table>\n",
              "</div>\n",
              "      <button class=\"colab-df-convert\" onclick=\"convertToInteractive('df-160d26a8-d453-471c-b2bc-0a839dd55dae')\"\n",
              "              title=\"Convert this dataframe to an interactive table.\"\n",
              "              style=\"display:none;\">\n",
              "        \n",
              "  <svg xmlns=\"http://www.w3.org/2000/svg\" height=\"24px\"viewBox=\"0 0 24 24\"\n",
              "       width=\"24px\">\n",
              "    <path d=\"M0 0h24v24H0V0z\" fill=\"none\"/>\n",
              "    <path d=\"M18.56 5.44l.94 2.06.94-2.06 2.06-.94-2.06-.94-.94-2.06-.94 2.06-2.06.94zm-11 1L8.5 8.5l.94-2.06 2.06-.94-2.06-.94L8.5 2.5l-.94 2.06-2.06.94zm10 10l.94 2.06.94-2.06 2.06-.94-2.06-.94-.94-2.06-.94 2.06-2.06.94z\"/><path d=\"M17.41 7.96l-1.37-1.37c-.4-.4-.92-.59-1.43-.59-.52 0-1.04.2-1.43.59L10.3 9.45l-7.72 7.72c-.78.78-.78 2.05 0 2.83L4 21.41c.39.39.9.59 1.41.59.51 0 1.02-.2 1.41-.59l7.78-7.78 2.81-2.81c.8-.78.8-2.07 0-2.86zM5.41 20L4 18.59l7.72-7.72 1.47 1.35L5.41 20z\"/>\n",
              "  </svg>\n",
              "      </button>\n",
              "      \n",
              "  <style>\n",
              "    .colab-df-container {\n",
              "      display:flex;\n",
              "      flex-wrap:wrap;\n",
              "      gap: 12px;\n",
              "    }\n",
              "\n",
              "    .colab-df-convert {\n",
              "      background-color: #E8F0FE;\n",
              "      border: none;\n",
              "      border-radius: 50%;\n",
              "      cursor: pointer;\n",
              "      display: none;\n",
              "      fill: #1967D2;\n",
              "      height: 32px;\n",
              "      padding: 0 0 0 0;\n",
              "      width: 32px;\n",
              "    }\n",
              "\n",
              "    .colab-df-convert:hover {\n",
              "      background-color: #E2EBFA;\n",
              "      box-shadow: 0px 1px 2px rgba(60, 64, 67, 0.3), 0px 1px 3px 1px rgba(60, 64, 67, 0.15);\n",
              "      fill: #174EA6;\n",
              "    }\n",
              "\n",
              "    [theme=dark] .colab-df-convert {\n",
              "      background-color: #3B4455;\n",
              "      fill: #D2E3FC;\n",
              "    }\n",
              "\n",
              "    [theme=dark] .colab-df-convert:hover {\n",
              "      background-color: #434B5C;\n",
              "      box-shadow: 0px 1px 3px 1px rgba(0, 0, 0, 0.15);\n",
              "      filter: drop-shadow(0px 1px 2px rgba(0, 0, 0, 0.3));\n",
              "      fill: #FFFFFF;\n",
              "    }\n",
              "  </style>\n",
              "\n",
              "      <script>\n",
              "        const buttonEl =\n",
              "          document.querySelector('#df-160d26a8-d453-471c-b2bc-0a839dd55dae button.colab-df-convert');\n",
              "        buttonEl.style.display =\n",
              "          google.colab.kernel.accessAllowed ? 'block' : 'none';\n",
              "\n",
              "        async function convertToInteractive(key) {\n",
              "          const element = document.querySelector('#df-160d26a8-d453-471c-b2bc-0a839dd55dae');\n",
              "          const dataTable =\n",
              "            await google.colab.kernel.invokeFunction('convertToInteractive',\n",
              "                                                     [key], {});\n",
              "          if (!dataTable) return;\n",
              "\n",
              "          const docLinkHtml = 'Like what you see? Visit the ' +\n",
              "            '<a target=\"_blank\" href=https://colab.research.google.com/notebooks/data_table.ipynb>data table notebook</a>'\n",
              "            + ' to learn more about interactive tables.';\n",
              "          element.innerHTML = '';\n",
              "          dataTable['output_type'] = 'display_data';\n",
              "          await google.colab.output.renderOutput(dataTable, element);\n",
              "          const docLink = document.createElement('div');\n",
              "          docLink.innerHTML = docLinkHtml;\n",
              "          element.appendChild(docLink);\n",
              "        }\n",
              "      </script>\n",
              "    </div>\n",
              "  </div>\n",
              "  "
            ]
          },
          "metadata": {},
          "execution_count": 21
        }
      ]
    },
    {
      "cell_type": "code",
      "source": [
        "tips.describe()"
      ],
      "metadata": {
        "colab": {
          "base_uri": "https://localhost:8080/",
          "height": 300
        },
        "id": "60SzaucOpuAm",
        "outputId": "70721a6c-5dbe-45ca-8c7f-be8a8f92ad8c"
      },
      "execution_count": null,
      "outputs": [
        {
          "output_type": "execute_result",
          "data": {
            "text/plain": [
              "       total_bill         tip        size\n",
              "count  244.000000  244.000000  244.000000\n",
              "mean    19.785943    2.998279    2.569672\n",
              "std      8.902412    1.383638    0.951100\n",
              "min      3.070000    1.000000    1.000000\n",
              "25%     13.347500    2.000000    2.000000\n",
              "50%     17.795000    2.900000    2.000000\n",
              "75%     24.127500    3.562500    3.000000\n",
              "max     50.810000   10.000000    6.000000"
            ],
            "text/html": [
              "\n",
              "  <div id=\"df-e4a4a29b-5cf0-4a11-bc4e-743e8061644a\">\n",
              "    <div class=\"colab-df-container\">\n",
              "      <div>\n",
              "<style scoped>\n",
              "    .dataframe tbody tr th:only-of-type {\n",
              "        vertical-align: middle;\n",
              "    }\n",
              "\n",
              "    .dataframe tbody tr th {\n",
              "        vertical-align: top;\n",
              "    }\n",
              "\n",
              "    .dataframe thead th {\n",
              "        text-align: right;\n",
              "    }\n",
              "</style>\n",
              "<table border=\"1\" class=\"dataframe\">\n",
              "  <thead>\n",
              "    <tr style=\"text-align: right;\">\n",
              "      <th></th>\n",
              "      <th>total_bill</th>\n",
              "      <th>tip</th>\n",
              "      <th>size</th>\n",
              "    </tr>\n",
              "  </thead>\n",
              "  <tbody>\n",
              "    <tr>\n",
              "      <th>count</th>\n",
              "      <td>244.000000</td>\n",
              "      <td>244.000000</td>\n",
              "      <td>244.000000</td>\n",
              "    </tr>\n",
              "    <tr>\n",
              "      <th>mean</th>\n",
              "      <td>19.785943</td>\n",
              "      <td>2.998279</td>\n",
              "      <td>2.569672</td>\n",
              "    </tr>\n",
              "    <tr>\n",
              "      <th>std</th>\n",
              "      <td>8.902412</td>\n",
              "      <td>1.383638</td>\n",
              "      <td>0.951100</td>\n",
              "    </tr>\n",
              "    <tr>\n",
              "      <th>min</th>\n",
              "      <td>3.070000</td>\n",
              "      <td>1.000000</td>\n",
              "      <td>1.000000</td>\n",
              "    </tr>\n",
              "    <tr>\n",
              "      <th>25%</th>\n",
              "      <td>13.347500</td>\n",
              "      <td>2.000000</td>\n",
              "      <td>2.000000</td>\n",
              "    </tr>\n",
              "    <tr>\n",
              "      <th>50%</th>\n",
              "      <td>17.795000</td>\n",
              "      <td>2.900000</td>\n",
              "      <td>2.000000</td>\n",
              "    </tr>\n",
              "    <tr>\n",
              "      <th>75%</th>\n",
              "      <td>24.127500</td>\n",
              "      <td>3.562500</td>\n",
              "      <td>3.000000</td>\n",
              "    </tr>\n",
              "    <tr>\n",
              "      <th>max</th>\n",
              "      <td>50.810000</td>\n",
              "      <td>10.000000</td>\n",
              "      <td>6.000000</td>\n",
              "    </tr>\n",
              "  </tbody>\n",
              "</table>\n",
              "</div>\n",
              "      <button class=\"colab-df-convert\" onclick=\"convertToInteractive('df-e4a4a29b-5cf0-4a11-bc4e-743e8061644a')\"\n",
              "              title=\"Convert this dataframe to an interactive table.\"\n",
              "              style=\"display:none;\">\n",
              "        \n",
              "  <svg xmlns=\"http://www.w3.org/2000/svg\" height=\"24px\"viewBox=\"0 0 24 24\"\n",
              "       width=\"24px\">\n",
              "    <path d=\"M0 0h24v24H0V0z\" fill=\"none\"/>\n",
              "    <path d=\"M18.56 5.44l.94 2.06.94-2.06 2.06-.94-2.06-.94-.94-2.06-.94 2.06-2.06.94zm-11 1L8.5 8.5l.94-2.06 2.06-.94-2.06-.94L8.5 2.5l-.94 2.06-2.06.94zm10 10l.94 2.06.94-2.06 2.06-.94-2.06-.94-.94-2.06-.94 2.06-2.06.94z\"/><path d=\"M17.41 7.96l-1.37-1.37c-.4-.4-.92-.59-1.43-.59-.52 0-1.04.2-1.43.59L10.3 9.45l-7.72 7.72c-.78.78-.78 2.05 0 2.83L4 21.41c.39.39.9.59 1.41.59.51 0 1.02-.2 1.41-.59l7.78-7.78 2.81-2.81c.8-.78.8-2.07 0-2.86zM5.41 20L4 18.59l7.72-7.72 1.47 1.35L5.41 20z\"/>\n",
              "  </svg>\n",
              "      </button>\n",
              "      \n",
              "  <style>\n",
              "    .colab-df-container {\n",
              "      display:flex;\n",
              "      flex-wrap:wrap;\n",
              "      gap: 12px;\n",
              "    }\n",
              "\n",
              "    .colab-df-convert {\n",
              "      background-color: #E8F0FE;\n",
              "      border: none;\n",
              "      border-radius: 50%;\n",
              "      cursor: pointer;\n",
              "      display: none;\n",
              "      fill: #1967D2;\n",
              "      height: 32px;\n",
              "      padding: 0 0 0 0;\n",
              "      width: 32px;\n",
              "    }\n",
              "\n",
              "    .colab-df-convert:hover {\n",
              "      background-color: #E2EBFA;\n",
              "      box-shadow: 0px 1px 2px rgba(60, 64, 67, 0.3), 0px 1px 3px 1px rgba(60, 64, 67, 0.15);\n",
              "      fill: #174EA6;\n",
              "    }\n",
              "\n",
              "    [theme=dark] .colab-df-convert {\n",
              "      background-color: #3B4455;\n",
              "      fill: #D2E3FC;\n",
              "    }\n",
              "\n",
              "    [theme=dark] .colab-df-convert:hover {\n",
              "      background-color: #434B5C;\n",
              "      box-shadow: 0px 1px 3px 1px rgba(0, 0, 0, 0.15);\n",
              "      filter: drop-shadow(0px 1px 2px rgba(0, 0, 0, 0.3));\n",
              "      fill: #FFFFFF;\n",
              "    }\n",
              "  </style>\n",
              "\n",
              "      <script>\n",
              "        const buttonEl =\n",
              "          document.querySelector('#df-e4a4a29b-5cf0-4a11-bc4e-743e8061644a button.colab-df-convert');\n",
              "        buttonEl.style.display =\n",
              "          google.colab.kernel.accessAllowed ? 'block' : 'none';\n",
              "\n",
              "        async function convertToInteractive(key) {\n",
              "          const element = document.querySelector('#df-e4a4a29b-5cf0-4a11-bc4e-743e8061644a');\n",
              "          const dataTable =\n",
              "            await google.colab.kernel.invokeFunction('convertToInteractive',\n",
              "                                                     [key], {});\n",
              "          if (!dataTable) return;\n",
              "\n",
              "          const docLinkHtml = 'Like what you see? Visit the ' +\n",
              "            '<a target=\"_blank\" href=https://colab.research.google.com/notebooks/data_table.ipynb>data table notebook</a>'\n",
              "            + ' to learn more about interactive tables.';\n",
              "          element.innerHTML = '';\n",
              "          dataTable['output_type'] = 'display_data';\n",
              "          await google.colab.output.renderOutput(dataTable, element);\n",
              "          const docLink = document.createElement('div');\n",
              "          docLink.innerHTML = docLinkHtml;\n",
              "          element.appendChild(docLink);\n",
              "        }\n",
              "      </script>\n",
              "    </div>\n",
              "  </div>\n",
              "  "
            ]
          },
          "metadata": {},
          "execution_count": 22
        }
      ]
    },
    {
      "cell_type": "code",
      "source": [
        "tips[tips['day'] == 'Sat']['total_bill'].describe()"
      ],
      "metadata": {
        "colab": {
          "base_uri": "https://localhost:8080/"
        },
        "id": "AgeBWuLop-SH",
        "outputId": "8fca2500-9aac-42f2-c880-f85629369733"
      },
      "execution_count": null,
      "outputs": [
        {
          "output_type": "execute_result",
          "data": {
            "text/plain": [
              "count    87.000000\n",
              "mean     20.441379\n",
              "std       9.480419\n",
              "min       3.070000\n",
              "25%      13.905000\n",
              "50%      18.240000\n",
              "75%      24.740000\n",
              "max      50.810000\n",
              "Name: total_bill, dtype: float64"
            ]
          },
          "metadata": {},
          "execution_count": 23
        }
      ]
    },
    {
      "cell_type": "code",
      "source": [
        "tips[tips['day'] == 'Sun']['total_bill'].describe()"
      ],
      "metadata": {
        "colab": {
          "base_uri": "https://localhost:8080/"
        },
        "id": "DWnkX0NBqKPb",
        "outputId": "c4100803-b683-4702-c7fd-a1e136d4ac84"
      },
      "execution_count": null,
      "outputs": [
        {
          "output_type": "execute_result",
          "data": {
            "text/plain": [
              "count    76.000000\n",
              "mean     21.410000\n",
              "std       8.832122\n",
              "min       7.250000\n",
              "25%      14.987500\n",
              "50%      19.630000\n",
              "75%      25.597500\n",
              "max      48.170000\n",
              "Name: total_bill, dtype: float64"
            ]
          },
          "metadata": {},
          "execution_count": 24
        }
      ]
    },
    {
      "cell_type": "code",
      "source": [
        "tips[tips['day'] == 'Fri']['total_bill'].describe()"
      ],
      "metadata": {
        "colab": {
          "base_uri": "https://localhost:8080/"
        },
        "id": "v1MYwQgvqQDr",
        "outputId": "05c01e5c-6307-483e-f91d-51744e448d53"
      },
      "execution_count": null,
      "outputs": [
        {
          "output_type": "execute_result",
          "data": {
            "text/plain": [
              "count    19.000000\n",
              "mean     17.151579\n",
              "std       8.302660\n",
              "min       5.750000\n",
              "25%      12.095000\n",
              "50%      15.380000\n",
              "75%      21.750000\n",
              "max      40.170000\n",
              "Name: total_bill, dtype: float64"
            ]
          },
          "metadata": {},
          "execution_count": 25
        }
      ]
    },
    {
      "cell_type": "code",
      "source": [
        "tips[tips['day'] == 'Thur']['total_bill'].describe()"
      ],
      "metadata": {
        "colab": {
          "base_uri": "https://localhost:8080/"
        },
        "id": "eFk-t-V-TGcN",
        "outputId": "04cd52f5-5b58-4697-a84a-904f3a1e40fa"
      },
      "execution_count": null,
      "outputs": [
        {
          "output_type": "execute_result",
          "data": {
            "text/plain": [
              "count    62.000000\n",
              "mean     17.682742\n",
              "std       7.886170\n",
              "min       7.510000\n",
              "25%      12.442500\n",
              "50%      16.200000\n",
              "75%      20.155000\n",
              "max      43.110000\n",
              "Name: total_bill, dtype: float64"
            ]
          },
          "metadata": {},
          "execution_count": 108
        }
      ]
    },
    {
      "cell_type": "markdown",
      "source": [
        "## Гистограммы"
      ],
      "metadata": {
        "id": "jt-h8RbNxbeq"
      }
    },
    {
      "cell_type": "code",
      "source": [
        "sns.displot(tips['total_bill'])"
      ],
      "metadata": {
        "colab": {
          "base_uri": "https://localhost:8080/",
          "height": 383
        },
        "id": "1UvpBZ7zqWab",
        "outputId": "f489dcb1-2013-48b7-cd1c-2a5924403e27"
      },
      "execution_count": null,
      "outputs": [
        {
          "output_type": "execute_result",
          "data": {
            "text/plain": [
              "<seaborn.axisgrid.FacetGrid at 0x7effec754250>"
            ]
          },
          "metadata": {},
          "execution_count": 32
        },
        {
          "output_type": "display_data",
          "data": {
            "text/plain": [
              "<Figure size 360x360 with 1 Axes>"
            ],
            "image/png": "[encoded data removed]"
          },
          "metadata": {}
        }
      ]
    },
    {
      "cell_type": "code",
      "source": [
        "sns.displot(data = tips, x = 'total_bill', hue = 'sex', stat = 'density')"
      ],
      "metadata": {
        "colab": {
          "base_uri": "https://localhost:8080/",
          "height": 383
        },
        "id": "kVQBsIGcxp8f",
        "outputId": "50473d95-65d1-4f83-a3ab-2f9925f28845"
      },
      "execution_count": null,
      "outputs": [
        {
          "output_type": "execute_result",
          "data": {
            "text/plain": [
              "<seaborn.axisgrid.FacetGrid at 0x7effec5ada90>"
            ]
          },
          "metadata": {},
          "execution_count": 37
        },
        {
          "output_type": "display_data",
          "data": {
            "text/plain": [
              "<Figure size 439.725x360 with 1 Axes>"
            ],
            "image/png": "[encoded data removed]"
          },
          "metadata": {}
        }
      ]
    },
    {
      "cell_type": "code",
      "source": [
        "sns.displot(data = tips, x = 'total_bill', hue = 'sex', stat = 'density', common_norm=False)"
      ],
      "metadata": {
        "colab": {
          "base_uri": "https://localhost:8080/",
          "height": 383
        },
        "id": "QviEf0uE3mr4",
        "outputId": "5c4b1014-73c5-45bd-8399-9bc11025932b"
      },
      "execution_count": null,
      "outputs": [
        {
          "output_type": "execute_result",
          "data": {
            "text/plain": [
              "<seaborn.axisgrid.FacetGrid at 0x7effec28fa50>"
            ]
          },
          "metadata": {},
          "execution_count": 38
        },
        {
          "output_type": "display_data",
          "data": {
            "text/plain": [
              "<Figure size 439.725x360 with 1 Axes>"
            ],
            "image/png": "[encoded data removed]"
          },
          "metadata": {}
        }
      ]
    },
    {
      "cell_type": "code",
      "source": [
        "tips_grouped = tips.groupby('day').count()['smoker']\n",
        "tips_grouped"
      ],
      "metadata": {
        "colab": {
          "base_uri": "https://localhost:8080/"
        },
        "id": "llfohliV4UJW",
        "outputId": "5153ea76-cc62-4edf-dac1-a27916064d1a"
      },
      "execution_count": null,
      "outputs": [
        {
          "output_type": "execute_result",
          "data": {
            "text/plain": [
              "day\n",
              "Thur    62\n",
              "Fri     19\n",
              "Sat     87\n",
              "Sun     76\n",
              "Name: smoker, dtype: int64"
            ]
          },
          "metadata": {},
          "execution_count": 48
        }
      ]
    },
    {
      "cell_type": "code",
      "source": [
        "sns.displot(data = tips, x = 'tip')"
      ],
      "metadata": {
        "colab": {
          "base_uri": "https://localhost:8080/",
          "height": 383
        },
        "id": "Hk4fagP642gO",
        "outputId": "46bc6ccc-5dad-4d2b-cc21-a099d1351cd8"
      },
      "execution_count": null,
      "outputs": [
        {
          "output_type": "execute_result",
          "data": {
            "text/plain": [
              "<seaborn.axisgrid.FacetGrid at 0x7effebf017d0>"
            ]
          },
          "metadata": {},
          "execution_count": 54
        },
        {
          "output_type": "display_data",
          "data": {
            "text/plain": [
              "<Figure size 360x360 with 1 Axes>"
            ],
            "image/png": "[encoded data removed]"
          },
          "metadata": {}
        }
      ]
    },
    {
      "cell_type": "code",
      "source": [
        "sns.displot(data = tips, x = 'tip')"
      ],
      "metadata": {
        "colab": {
          "base_uri": "https://localhost:8080/",
          "height": 383
        },
        "id": "ePOW2H7e5X-P",
        "outputId": "d3c92e51-9cff-45a0-9dae-1d366c11a0c7"
      },
      "execution_count": null,
      "outputs": [
        {
          "output_type": "execute_result",
          "data": {
            "text/plain": [
              "<seaborn.axisgrid.FacetGrid at 0x7effebe34f90>"
            ]
          },
          "metadata": {},
          "execution_count": 55
        },
        {
          "output_type": "display_data",
          "data": {
            "text/plain": [
              "<Figure size 360x360 with 1 Axes>"
            ],
            "image/png": "[encoded data removed]"
          },
          "metadata": {}
        }
      ]
    },
    {
      "cell_type": "code",
      "source": [
        "sns.displot(data = tips, x = 'size')"
      ],
      "metadata": {
        "colab": {
          "base_uri": "https://localhost:8080/",
          "height": 383
        },
        "id": "qmExu1vJ6NZN",
        "outputId": "e6bcb46d-62d4-47af-d1b2-82f1883e2ed8"
      },
      "execution_count": null,
      "outputs": [
        {
          "output_type": "execute_result",
          "data": {
            "text/plain": [
              "<seaborn.axisgrid.FacetGrid at 0x7effebe28bd0>"
            ]
          },
          "metadata": {},
          "execution_count": 56
        },
        {
          "output_type": "display_data",
          "data": {
            "text/plain": [
              "<Figure size 360x360 with 1 Axes>"
            ],
            "image/png": "[encoded data removed]"
          },
          "metadata": {}
        }
      ]
    },
    {
      "cell_type": "code",
      "source": [
        "sns.displot(data = tips, x = 'size', discrete = True)"
      ],
      "metadata": {
        "colab": {
          "base_uri": "https://localhost:8080/",
          "height": 383
        },
        "id": "4Slc1s086YFw",
        "outputId": "28fcd22b-e17d-4ede-91c2-817dd63353f2"
      },
      "execution_count": null,
      "outputs": [
        {
          "output_type": "execute_result",
          "data": {
            "text/plain": [
              "<seaborn.axisgrid.FacetGrid at 0x7effebc6e210>"
            ]
          },
          "metadata": {},
          "execution_count": 58
        },
        {
          "output_type": "display_data",
          "data": {
            "text/plain": [
              "<Figure size 360x360 with 1 Axes>"
            ],
            "image/png": "[encoded data removed]"
          },
          "metadata": {}
        }
      ]
    },
    {
      "cell_type": "code",
      "source": [
        "tips_rounded = tips.round({'tip': 0})\n",
        "tips_rounded"
      ],
      "metadata": {
        "colab": {
          "base_uri": "https://localhost:8080/",
          "height": 424
        },
        "id": "pTlbKEEU75LU",
        "outputId": "c4dc7906-f910-472c-c02e-84c9db388c77"
      },
      "execution_count": null,
      "outputs": [
        {
          "output_type": "execute_result",
          "data": {
            "text/plain": [
              "     total_bill  tip     sex smoker   day    time  size\n",
              "0         16.99  1.0  Female     No   Sun  Dinner     2\n",
              "1         10.34  2.0    Male     No   Sun  Dinner     3\n",
              "2         21.01  4.0    Male     No   Sun  Dinner     3\n",
              "3         23.68  3.0    Male     No   Sun  Dinner     2\n",
              "4         24.59  4.0  Female     No   Sun  Dinner     4\n",
              "..          ...  ...     ...    ...   ...     ...   ...\n",
              "239       29.03  6.0    Male     No   Sat  Dinner     3\n",
              "240       27.18  2.0  Female    Yes   Sat  Dinner     2\n",
              "241       22.67  2.0    Male    Yes   Sat  Dinner     2\n",
              "242       17.82  2.0    Male     No   Sat  Dinner     2\n",
              "243       18.78  3.0  Female     No  Thur  Dinner     2\n",
              "\n",
              "[244 rows x 7 columns]"
            ],
            "text/html": [
              "\n",
              "  <div id=\"df-7c969057-d4ec-4262-bbb0-cadf6f269bdb\">\n",
              "    <div class=\"colab-df-container\">\n",
              "      <div>\n",
              "<style scoped>\n",
              "    .dataframe tbody tr th:only-of-type {\n",
              "        vertical-align: middle;\n",
              "    }\n",
              "\n",
              "    .dataframe tbody tr th {\n",
              "        vertical-align: top;\n",
              "    }\n",
              "\n",
              "    .dataframe thead th {\n",
              "        text-align: right;\n",
              "    }\n",
              "</style>\n",
              "<table border=\"1\" class=\"dataframe\">\n",
              "  <thead>\n",
              "    <tr style=\"text-align: right;\">\n",
              "      <th></th>\n",
              "      <th>total_bill</th>\n",
              "      <th>tip</th>\n",
              "      <th>sex</th>\n",
              "      <th>smoker</th>\n",
              "      <th>day</th>\n",
              "      <th>time</th>\n",
              "      <th>size</th>\n",
              "    </tr>\n",
              "  </thead>\n",
              "  <tbody>\n",
              "    <tr>\n",
              "      <th>0</th>\n",
              "      <td>16.99</td>\n",
              "      <td>1.0</td>\n",
              "      <td>Female</td>\n",
              "      <td>No</td>\n",
              "      <td>Sun</td>\n",
              "      <td>Dinner</td>\n",
              "      <td>2</td>\n",
              "    </tr>\n",
              "    <tr>\n",
              "      <th>1</th>\n",
              "      <td>10.34</td>\n",
              "      <td>2.0</td>\n",
              "      <td>Male</td>\n",
              "      <td>No</td>\n",
              "      <td>Sun</td>\n",
              "      <td>Dinner</td>\n",
              "      <td>3</td>\n",
              "    </tr>\n",
              "    <tr>\n",
              "      <th>2</th>\n",
              "      <td>21.01</td>\n",
              "      <td>4.0</td>\n",
              "      <td>Male</td>\n",
              "      <td>No</td>\n",
              "      <td>Sun</td>\n",
              "      <td>Dinner</td>\n",
              "      <td>3</td>\n",
              "    </tr>\n",
              "    <tr>\n",
              "      <th>3</th>\n",
              "      <td>23.68</td>\n",
              "      <td>3.0</td>\n",
              "      <td>Male</td>\n",
              "      <td>No</td>\n",
              "      <td>Sun</td>\n",
              "      <td>Dinner</td>\n",
              "      <td>2</td>\n",
              "    </tr>\n",
              "    <tr>\n",
              "      <th>4</th>\n",
              "      <td>24.59</td>\n",
              "      <td>4.0</td>\n",
              "      <td>Female</td>\n",
              "      <td>No</td>\n",
              "      <td>Sun</td>\n",
              "      <td>Dinner</td>\n",
              "      <td>4</td>\n",
              "    </tr>\n",
              "    <tr>\n",
              "      <th>...</th>\n",
              "      <td>...</td>\n",
              "      <td>...</td>\n",
              "      <td>...</td>\n",
              "      <td>...</td>\n",
              "      <td>...</td>\n",
              "      <td>...</td>\n",
              "      <td>...</td>\n",
              "    </tr>\n",
              "    <tr>\n",
              "      <th>239</th>\n",
              "      <td>29.03</td>\n",
              "      <td>6.0</td>\n",
              "      <td>Male</td>\n",
              "      <td>No</td>\n",
              "      <td>Sat</td>\n",
              "      <td>Dinner</td>\n",
              "      <td>3</td>\n",
              "    </tr>\n",
              "    <tr>\n",
              "      <th>240</th>\n",
              "      <td>27.18</td>\n",
              "      <td>2.0</td>\n",
              "      <td>Female</td>\n",
              "      <td>Yes</td>\n",
              "      <td>Sat</td>\n",
              "      <td>Dinner</td>\n",
              "      <td>2</td>\n",
              "    </tr>\n",
              "    <tr>\n",
              "      <th>241</th>\n",
              "      <td>22.67</td>\n",
              "      <td>2.0</td>\n",
              "      <td>Male</td>\n",
              "      <td>Yes</td>\n",
              "      <td>Sat</td>\n",
              "      <td>Dinner</td>\n",
              "      <td>2</td>\n",
              "    </tr>\n",
              "    <tr>\n",
              "      <th>242</th>\n",
              "      <td>17.82</td>\n",
              "      <td>2.0</td>\n",
              "      <td>Male</td>\n",
              "      <td>No</td>\n",
              "      <td>Sat</td>\n",
              "      <td>Dinner</td>\n",
              "      <td>2</td>\n",
              "    </tr>\n",
              "    <tr>\n",
              "      <th>243</th>\n",
              "      <td>18.78</td>\n",
              "      <td>3.0</td>\n",
              "      <td>Female</td>\n",
              "      <td>No</td>\n",
              "      <td>Thur</td>\n",
              "      <td>Dinner</td>\n",
              "      <td>2</td>\n",
              "    </tr>\n",
              "  </tbody>\n",
              "</table>\n",
              "<p>244 rows × 7 columns</p>\n",
              "</div>\n",
              "      <button class=\"colab-df-convert\" onclick=\"convertToInteractive('df-7c969057-d4ec-4262-bbb0-cadf6f269bdb')\"\n",
              "              title=\"Convert this dataframe to an interactive table.\"\n",
              "              style=\"display:none;\">\n",
              "        \n",
              "  <svg xmlns=\"http://www.w3.org/2000/svg\" height=\"24px\"viewBox=\"0 0 24 24\"\n",
              "       width=\"24px\">\n",
              "    <path d=\"M0 0h24v24H0V0z\" fill=\"none\"/>\n",
              "    <path d=\"M18.56 5.44l.94 2.06.94-2.06 2.06-.94-2.06-.94-.94-2.06-.94 2.06-2.06.94zm-11 1L8.5 8.5l.94-2.06 2.06-.94-2.06-.94L8.5 2.5l-.94 2.06-2.06.94zm10 10l.94 2.06.94-2.06 2.06-.94-2.06-.94-.94-2.06-.94 2.06-2.06.94z\"/><path d=\"M17.41 7.96l-1.37-1.37c-.4-.4-.92-.59-1.43-.59-.52 0-1.04.2-1.43.59L10.3 9.45l-7.72 7.72c-.78.78-.78 2.05 0 2.83L4 21.41c.39.39.9.59 1.41.59.51 0 1.02-.2 1.41-.59l7.78-7.78 2.81-2.81c.8-.78.8-2.07 0-2.86zM5.41 20L4 18.59l7.72-7.72 1.47 1.35L5.41 20z\"/>\n",
              "  </svg>\n",
              "      </button>\n",
              "      \n",
              "  <style>\n",
              "    .colab-df-container {\n",
              "      display:flex;\n",
              "      flex-wrap:wrap;\n",
              "      gap: 12px;\n",
              "    }\n",
              "\n",
              "    .colab-df-convert {\n",
              "      background-color: #E8F0FE;\n",
              "      border: none;\n",
              "      border-radius: 50%;\n",
              "      cursor: pointer;\n",
              "      display: none;\n",
              "      fill: #1967D2;\n",
              "      height: 32px;\n",
              "      padding: 0 0 0 0;\n",
              "      width: 32px;\n",
              "    }\n",
              "\n",
              "    .colab-df-convert:hover {\n",
              "      background-color: #E2EBFA;\n",
              "      box-shadow: 0px 1px 2px rgba(60, 64, 67, 0.3), 0px 1px 3px 1px rgba(60, 64, 67, 0.15);\n",
              "      fill: #174EA6;\n",
              "    }\n",
              "\n",
              "    [theme=dark] .colab-df-convert {\n",
              "      background-color: #3B4455;\n",
              "      fill: #D2E3FC;\n",
              "    }\n",
              "\n",
              "    [theme=dark] .colab-df-convert:hover {\n",
              "      background-color: #434B5C;\n",
              "      box-shadow: 0px 1px 3px 1px rgba(0, 0, 0, 0.15);\n",
              "      filter: drop-shadow(0px 1px 2px rgba(0, 0, 0, 0.3));\n",
              "      fill: #FFFFFF;\n",
              "    }\n",
              "  </style>\n",
              "\n",
              "      <script>\n",
              "        const buttonEl =\n",
              "          document.querySelector('#df-7c969057-d4ec-4262-bbb0-cadf6f269bdb button.colab-df-convert');\n",
              "        buttonEl.style.display =\n",
              "          google.colab.kernel.accessAllowed ? 'block' : 'none';\n",
              "\n",
              "        async function convertToInteractive(key) {\n",
              "          const element = document.querySelector('#df-7c969057-d4ec-4262-bbb0-cadf6f269bdb');\n",
              "          const dataTable =\n",
              "            await google.colab.kernel.invokeFunction('convertToInteractive',\n",
              "                                                     [key], {});\n",
              "          if (!dataTable) return;\n",
              "\n",
              "          const docLinkHtml = 'Like what you see? Visit the ' +\n",
              "            '<a target=\"_blank\" href=https://colab.research.google.com/notebooks/data_table.ipynb>data table notebook</a>'\n",
              "            + ' to learn more about interactive tables.';\n",
              "          element.innerHTML = '';\n",
              "          dataTable['output_type'] = 'display_data';\n",
              "          await google.colab.output.renderOutput(dataTable, element);\n",
              "          const docLink = document.createElement('div');\n",
              "          docLink.innerHTML = docLinkHtml;\n",
              "          element.appendChild(docLink);\n",
              "        }\n",
              "      </script>\n",
              "    </div>\n",
              "  </div>\n",
              "  "
            ]
          },
          "metadata": {},
          "execution_count": 75
        }
      ]
    },
    {
      "cell_type": "code",
      "source": [
        "tips_rounded.groupby('tip').count()"
      ],
      "metadata": {
        "colab": {
          "base_uri": "https://localhost:8080/",
          "height": 394
        },
        "id": "FUfdiQMO7mFQ",
        "outputId": "d76079e3-26e9-4786-cd84-d3c8531ed26f"
      },
      "execution_count": null,
      "outputs": [
        {
          "output_type": "execute_result",
          "data": {
            "text/plain": [
              "      total_bill  sex  smoker  day  time  size\n",
              "tip                                           \n",
              "1.0           17   17      17   17    17    17\n",
              "2.0           91   91      91   91    91    91\n",
              "3.0           64   64      64   64    64    64\n",
              "4.0           41   41      41   41    41    41\n",
              "5.0           19   19      19   19    19    19\n",
              "6.0            7    7       7    7     7     7\n",
              "7.0            2    2       2    2     2     2\n",
              "8.0            1    1       1    1     1     1\n",
              "9.0            1    1       1    1     1     1\n",
              "10.0           1    1       1    1     1     1"
            ],
            "text/html": [
              "\n",
              "  <div id=\"df-aecb12b3-8f69-4442-9440-a1496e3dfd87\">\n",
              "    <div class=\"colab-df-container\">\n",
              "      <div>\n",
              "<style scoped>\n",
              "    .dataframe tbody tr th:only-of-type {\n",
              "        vertical-align: middle;\n",
              "    }\n",
              "\n",
              "    .dataframe tbody tr th {\n",
              "        vertical-align: top;\n",
              "    }\n",
              "\n",
              "    .dataframe thead th {\n",
              "        text-align: right;\n",
              "    }\n",
              "</style>\n",
              "<table border=\"1\" class=\"dataframe\">\n",
              "  <thead>\n",
              "    <tr style=\"text-align: right;\">\n",
              "      <th></th>\n",
              "      <th>total_bill</th>\n",
              "      <th>sex</th>\n",
              "      <th>smoker</th>\n",
              "      <th>day</th>\n",
              "      <th>time</th>\n",
              "      <th>size</th>\n",
              "    </tr>\n",
              "    <tr>\n",
              "      <th>tip</th>\n",
              "      <th></th>\n",
              "      <th></th>\n",
              "      <th></th>\n",
              "      <th></th>\n",
              "      <th></th>\n",
              "      <th></th>\n",
              "    </tr>\n",
              "  </thead>\n",
              "  <tbody>\n",
              "    <tr>\n",
              "      <th>1.0</th>\n",
              "      <td>17</td>\n",
              "      <td>17</td>\n",
              "      <td>17</td>\n",
              "      <td>17</td>\n",
              "      <td>17</td>\n",
              "      <td>17</td>\n",
              "    </tr>\n",
              "    <tr>\n",
              "      <th>2.0</th>\n",
              "      <td>91</td>\n",
              "      <td>91</td>\n",
              "      <td>91</td>\n",
              "      <td>91</td>\n",
              "      <td>91</td>\n",
              "      <td>91</td>\n",
              "    </tr>\n",
              "    <tr>\n",
              "      <th>3.0</th>\n",
              "      <td>64</td>\n",
              "      <td>64</td>\n",
              "      <td>64</td>\n",
              "      <td>64</td>\n",
              "      <td>64</td>\n",
              "      <td>64</td>\n",
              "    </tr>\n",
              "    <tr>\n",
              "      <th>4.0</th>\n",
              "      <td>41</td>\n",
              "      <td>41</td>\n",
              "      <td>41</td>\n",
              "      <td>41</td>\n",
              "      <td>41</td>\n",
              "      <td>41</td>\n",
              "    </tr>\n",
              "    <tr>\n",
              "      <th>5.0</th>\n",
              "      <td>19</td>\n",
              "      <td>19</td>\n",
              "      <td>19</td>\n",
              "      <td>19</td>\n",
              "      <td>19</td>\n",
              "      <td>19</td>\n",
              "    </tr>\n",
              "    <tr>\n",
              "      <th>6.0</th>\n",
              "      <td>7</td>\n",
              "      <td>7</td>\n",
              "      <td>7</td>\n",
              "      <td>7</td>\n",
              "      <td>7</td>\n",
              "      <td>7</td>\n",
              "    </tr>\n",
              "    <tr>\n",
              "      <th>7.0</th>\n",
              "      <td>2</td>\n",
              "      <td>2</td>\n",
              "      <td>2</td>\n",
              "      <td>2</td>\n",
              "      <td>2</td>\n",
              "      <td>2</td>\n",
              "    </tr>\n",
              "    <tr>\n",
              "      <th>8.0</th>\n",
              "      <td>1</td>\n",
              "      <td>1</td>\n",
              "      <td>1</td>\n",
              "      <td>1</td>\n",
              "      <td>1</td>\n",
              "      <td>1</td>\n",
              "    </tr>\n",
              "    <tr>\n",
              "      <th>9.0</th>\n",
              "      <td>1</td>\n",
              "      <td>1</td>\n",
              "      <td>1</td>\n",
              "      <td>1</td>\n",
              "      <td>1</td>\n",
              "      <td>1</td>\n",
              "    </tr>\n",
              "    <tr>\n",
              "      <th>10.0</th>\n",
              "      <td>1</td>\n",
              "      <td>1</td>\n",
              "      <td>1</td>\n",
              "      <td>1</td>\n",
              "      <td>1</td>\n",
              "      <td>1</td>\n",
              "    </tr>\n",
              "  </tbody>\n",
              "</table>\n",
              "</div>\n",
              "      <button class=\"colab-df-convert\" onclick=\"convertToInteractive('df-aecb12b3-8f69-4442-9440-a1496e3dfd87')\"\n",
              "              title=\"Convert this dataframe to an interactive table.\"\n",
              "              style=\"display:none;\">\n",
              "        \n",
              "  <svg xmlns=\"http://www.w3.org/2000/svg\" height=\"24px\"viewBox=\"0 0 24 24\"\n",
              "       width=\"24px\">\n",
              "    <path d=\"M0 0h24v24H0V0z\" fill=\"none\"/>\n",
              "    <path d=\"M18.56 5.44l.94 2.06.94-2.06 2.06-.94-2.06-.94-.94-2.06-.94 2.06-2.06.94zm-11 1L8.5 8.5l.94-2.06 2.06-.94-2.06-.94L8.5 2.5l-.94 2.06-2.06.94zm10 10l.94 2.06.94-2.06 2.06-.94-2.06-.94-.94-2.06-.94 2.06-2.06.94z\"/><path d=\"M17.41 7.96l-1.37-1.37c-.4-.4-.92-.59-1.43-.59-.52 0-1.04.2-1.43.59L10.3 9.45l-7.72 7.72c-.78.78-.78 2.05 0 2.83L4 21.41c.39.39.9.59 1.41.59.51 0 1.02-.2 1.41-.59l7.78-7.78 2.81-2.81c.8-.78.8-2.07 0-2.86zM5.41 20L4 18.59l7.72-7.72 1.47 1.35L5.41 20z\"/>\n",
              "  </svg>\n",
              "      </button>\n",
              "      \n",
              "  <style>\n",
              "    .colab-df-container {\n",
              "      display:flex;\n",
              "      flex-wrap:wrap;\n",
              "      gap: 12px;\n",
              "    }\n",
              "\n",
              "    .colab-df-convert {\n",
              "      background-color: #E8F0FE;\n",
              "      border: none;\n",
              "      border-radius: 50%;\n",
              "      cursor: pointer;\n",
              "      display: none;\n",
              "      fill: #1967D2;\n",
              "      height: 32px;\n",
              "      padding: 0 0 0 0;\n",
              "      width: 32px;\n",
              "    }\n",
              "\n",
              "    .colab-df-convert:hover {\n",
              "      background-color: #E2EBFA;\n",
              "      box-shadow: 0px 1px 2px rgba(60, 64, 67, 0.3), 0px 1px 3px 1px rgba(60, 64, 67, 0.15);\n",
              "      fill: #174EA6;\n",
              "    }\n",
              "\n",
              "    [theme=dark] .colab-df-convert {\n",
              "      background-color: #3B4455;\n",
              "      fill: #D2E3FC;\n",
              "    }\n",
              "\n",
              "    [theme=dark] .colab-df-convert:hover {\n",
              "      background-color: #434B5C;\n",
              "      box-shadow: 0px 1px 3px 1px rgba(0, 0, 0, 0.15);\n",
              "      filter: drop-shadow(0px 1px 2px rgba(0, 0, 0, 0.3));\n",
              "      fill: #FFFFFF;\n",
              "    }\n",
              "  </style>\n",
              "\n",
              "      <script>\n",
              "        const buttonEl =\n",
              "          document.querySelector('#df-aecb12b3-8f69-4442-9440-a1496e3dfd87 button.colab-df-convert');\n",
              "        buttonEl.style.display =\n",
              "          google.colab.kernel.accessAllowed ? 'block' : 'none';\n",
              "\n",
              "        async function convertToInteractive(key) {\n",
              "          const element = document.querySelector('#df-aecb12b3-8f69-4442-9440-a1496e3dfd87');\n",
              "          const dataTable =\n",
              "            await google.colab.kernel.invokeFunction('convertToInteractive',\n",
              "                                                     [key], {});\n",
              "          if (!dataTable) return;\n",
              "\n",
              "          const docLinkHtml = 'Like what you see? Visit the ' +\n",
              "            '<a target=\"_blank\" href=https://colab.research.google.com/notebooks/data_table.ipynb>data table notebook</a>'\n",
              "            + ' to learn more about interactive tables.';\n",
              "          element.innerHTML = '';\n",
              "          dataTable['output_type'] = 'display_data';\n",
              "          await google.colab.output.renderOutput(dataTable, element);\n",
              "          const docLink = document.createElement('div');\n",
              "          docLink.innerHTML = docLinkHtml;\n",
              "          element.appendChild(docLink);\n",
              "        }\n",
              "      </script>\n",
              "    </div>\n",
              "  </div>\n",
              "  "
            ]
          },
          "metadata": {},
          "execution_count": 76
        }
      ]
    },
    {
      "cell_type": "code",
      "source": [
        "sns.displot(data = tips_rounded, x = 'tip', discrete = True)"
      ],
      "metadata": {
        "colab": {
          "base_uri": "https://localhost:8080/",
          "height": 383
        },
        "id": "V1bXpipK68zT",
        "outputId": "b8c7394c-5eb8-4b08-8c61-59ebe0cfc73f"
      },
      "execution_count": null,
      "outputs": [
        {
          "output_type": "execute_result",
          "data": {
            "text/plain": [
              "<seaborn.axisgrid.FacetGrid at 0x7effeb935c50>"
            ]
          },
          "metadata": {},
          "execution_count": 78
        },
        {
          "output_type": "display_data",
          "data": {
            "text/plain": [
              "<Figure size 360x360 with 1 Axes>"
            ],
            "image/png": "[encoded data removed]"
          },
          "metadata": {}
        }
      ]
    },
    {
      "cell_type": "code",
      "source": [
        "sns.displot(data = tips_rounded, x = 'tip', stat = 'probability', discrete = True)"
      ],
      "metadata": {
        "colab": {
          "base_uri": "https://localhost:8080/",
          "height": 383
        },
        "id": "CNDGTyN56awN",
        "outputId": "62d3cbee-96be-4814-a7df-5d05e183103e"
      },
      "execution_count": null,
      "outputs": [
        {
          "output_type": "execute_result",
          "data": {
            "text/plain": [
              "<seaborn.axisgrid.FacetGrid at 0x7effeb67dd90>"
            ]
          },
          "metadata": {},
          "execution_count": 81
        },
        {
          "output_type": "display_data",
          "data": {
            "text/plain": [
              "<Figure size 360x360 with 1 Axes>"
            ],
            "image/png": "[encoded data removed]"
          },
          "metadata": {}
        }
      ]
    },
    {
      "cell_type": "code",
      "source": [
        "#frequency density\n",
        "\n",
        "sns.displot(data = tips, x = 'total_bill')"
      ],
      "metadata": {
        "colab": {
          "base_uri": "https://localhost:8080/",
          "height": 383
        },
        "id": "Gp4Oo6sE7KnB",
        "outputId": "8e1c3736-e642-4519-8f66-2fcfc18d958e"
      },
      "execution_count": null,
      "outputs": [
        {
          "output_type": "execute_result",
          "data": {
            "text/plain": [
              "<seaborn.axisgrid.FacetGrid at 0x7effeb64cc50>"
            ]
          },
          "metadata": {},
          "execution_count": 88
        },
        {
          "output_type": "display_data",
          "data": {
            "text/plain": [
              "<Figure size 360x360 with 1 Axes>"
            ],
            "image/png": "[encoded data removed]"
          },
          "metadata": {}
        }
      ]
    },
    {
      "cell_type": "code",
      "source": [
        "tips.sort_values('total_bill', ascending = False)"
      ],
      "metadata": {
        "colab": {
          "base_uri": "https://localhost:8080/",
          "height": 424
        },
        "id": "0eXQhF02CLrB",
        "outputId": "77b254b6-32b7-406a-93ac-cb09f770d88f"
      },
      "execution_count": null,
      "outputs": [
        {
          "output_type": "execute_result",
          "data": {
            "text/plain": [
              "     total_bill    tip     sex smoker   day    time  size\n",
              "170       50.81  10.00    Male    Yes   Sat  Dinner     3\n",
              "212       48.33   9.00    Male     No   Sat  Dinner     4\n",
              "59        48.27   6.73    Male     No   Sat  Dinner     4\n",
              "156       48.17   5.00    Male     No   Sun  Dinner     6\n",
              "182       45.35   3.50    Male    Yes   Sun  Dinner     3\n",
              "..          ...    ...     ...    ...   ...     ...   ...\n",
              "149        7.51   2.00    Male     No  Thur   Lunch     2\n",
              "111        7.25   1.00  Female     No   Sat  Dinner     1\n",
              "172        7.25   5.15    Male    Yes   Sun  Dinner     2\n",
              "92         5.75   1.00  Female    Yes   Fri  Dinner     2\n",
              "67         3.07   1.00  Female    Yes   Sat  Dinner     1\n",
              "\n",
              "[244 rows x 7 columns]"
            ],
            "text/html": [
              "\n",
              "  <div id=\"df-bfe4f711-8644-401c-8a23-76f6531d3856\">\n",
              "    <div class=\"colab-df-container\">\n",
              "      <div>\n",
              "<style scoped>\n",
              "    .dataframe tbody tr th:only-of-type {\n",
              "        vertical-align: middle;\n",
              "    }\n",
              "\n",
              "    .dataframe tbody tr th {\n",
              "        vertical-align: top;\n",
              "    }\n",
              "\n",
              "    .dataframe thead th {\n",
              "        text-align: right;\n",
              "    }\n",
              "</style>\n",
              "<table border=\"1\" class=\"dataframe\">\n",
              "  <thead>\n",
              "    <tr style=\"text-align: right;\">\n",
              "      <th></th>\n",
              "      <th>total_bill</th>\n",
              "      <th>tip</th>\n",
              "      <th>sex</th>\n",
              "      <th>smoker</th>\n",
              "      <th>day</th>\n",
              "      <th>time</th>\n",
              "      <th>size</th>\n",
              "    </tr>\n",
              "  </thead>\n",
              "  <tbody>\n",
              "    <tr>\n",
              "      <th>170</th>\n",
              "      <td>50.81</td>\n",
              "      <td>10.00</td>\n",
              "      <td>Male</td>\n",
              "      <td>Yes</td>\n",
              "      <td>Sat</td>\n",
              "      <td>Dinner</td>\n",
              "      <td>3</td>\n",
              "    </tr>\n",
              "    <tr>\n",
              "      <th>212</th>\n",
              "      <td>48.33</td>\n",
              "      <td>9.00</td>\n",
              "      <td>Male</td>\n",
              "      <td>No</td>\n",
              "      <td>Sat</td>\n",
              "      <td>Dinner</td>\n",
              "      <td>4</td>\n",
              "    </tr>\n",
              "    <tr>\n",
              "      <th>59</th>\n",
              "      <td>48.27</td>\n",
              "      <td>6.73</td>\n",
              "      <td>Male</td>\n",
              "      <td>No</td>\n",
              "      <td>Sat</td>\n",
              "      <td>Dinner</td>\n",
              "      <td>4</td>\n",
              "    </tr>\n",
              "    <tr>\n",
              "      <th>156</th>\n",
              "      <td>48.17</td>\n",
              "      <td>5.00</td>\n",
              "      <td>Male</td>\n",
              "      <td>No</td>\n",
              "      <td>Sun</td>\n",
              "      <td>Dinner</td>\n",
              "      <td>6</td>\n",
              "    </tr>\n",
              "    <tr>\n",
              "      <th>182</th>\n",
              "      <td>45.35</td>\n",
              "      <td>3.50</td>\n",
              "      <td>Male</td>\n",
              "      <td>Yes</td>\n",
              "      <td>Sun</td>\n",
              "      <td>Dinner</td>\n",
              "      <td>3</td>\n",
              "    </tr>\n",
              "    <tr>\n",
              "      <th>...</th>\n",
              "      <td>...</td>\n",
              "      <td>...</td>\n",
              "      <td>...</td>\n",
              "      <td>...</td>\n",
              "      <td>...</td>\n",
              "      <td>...</td>\n",
              "      <td>...</td>\n",
              "    </tr>\n",
              "    <tr>\n",
              "      <th>149</th>\n",
              "      <td>7.51</td>\n",
              "      <td>2.00</td>\n",
              "      <td>Male</td>\n",
              "      <td>No</td>\n",
              "      <td>Thur</td>\n",
              "      <td>Lunch</td>\n",
              "      <td>2</td>\n",
              "    </tr>\n",
              "    <tr>\n",
              "      <th>111</th>\n",
              "      <td>7.25</td>\n",
              "      <td>1.00</td>\n",
              "      <td>Female</td>\n",
              "      <td>No</td>\n",
              "      <td>Sat</td>\n",
              "      <td>Dinner</td>\n",
              "      <td>1</td>\n",
              "    </tr>\n",
              "    <tr>\n",
              "      <th>172</th>\n",
              "      <td>7.25</td>\n",
              "      <td>5.15</td>\n",
              "      <td>Male</td>\n",
              "      <td>Yes</td>\n",
              "      <td>Sun</td>\n",
              "      <td>Dinner</td>\n",
              "      <td>2</td>\n",
              "    </tr>\n",
              "    <tr>\n",
              "      <th>92</th>\n",
              "      <td>5.75</td>\n",
              "      <td>1.00</td>\n",
              "      <td>Female</td>\n",
              "      <td>Yes</td>\n",
              "      <td>Fri</td>\n",
              "      <td>Dinner</td>\n",
              "      <td>2</td>\n",
              "    </tr>\n",
              "    <tr>\n",
              "      <th>67</th>\n",
              "      <td>3.07</td>\n",
              "      <td>1.00</td>\n",
              "      <td>Female</td>\n",
              "      <td>Yes</td>\n",
              "      <td>Sat</td>\n",
              "      <td>Dinner</td>\n",
              "      <td>1</td>\n",
              "    </tr>\n",
              "  </tbody>\n",
              "</table>\n",
              "<p>244 rows × 7 columns</p>\n",
              "</div>\n",
              "      <button class=\"colab-df-convert\" onclick=\"convertToInteractive('df-bfe4f711-8644-401c-8a23-76f6531d3856')\"\n",
              "              title=\"Convert this dataframe to an interactive table.\"\n",
              "              style=\"display:none;\">\n",
              "        \n",
              "  <svg xmlns=\"http://www.w3.org/2000/svg\" height=\"24px\"viewBox=\"0 0 24 24\"\n",
              "       width=\"24px\">\n",
              "    <path d=\"M0 0h24v24H0V0z\" fill=\"none\"/>\n",
              "    <path d=\"M18.56 5.44l.94 2.06.94-2.06 2.06-.94-2.06-.94-.94-2.06-.94 2.06-2.06.94zm-11 1L8.5 8.5l.94-2.06 2.06-.94-2.06-.94L8.5 2.5l-.94 2.06-2.06.94zm10 10l.94 2.06.94-2.06 2.06-.94-2.06-.94-.94-2.06-.94 2.06-2.06.94z\"/><path d=\"M17.41 7.96l-1.37-1.37c-.4-.4-.92-.59-1.43-.59-.52 0-1.04.2-1.43.59L10.3 9.45l-7.72 7.72c-.78.78-.78 2.05 0 2.83L4 21.41c.39.39.9.59 1.41.59.51 0 1.02-.2 1.41-.59l7.78-7.78 2.81-2.81c.8-.78.8-2.07 0-2.86zM5.41 20L4 18.59l7.72-7.72 1.47 1.35L5.41 20z\"/>\n",
              "  </svg>\n",
              "      </button>\n",
              "      \n",
              "  <style>\n",
              "    .colab-df-container {\n",
              "      display:flex;\n",
              "      flex-wrap:wrap;\n",
              "      gap: 12px;\n",
              "    }\n",
              "\n",
              "    .colab-df-convert {\n",
              "      background-color: #E8F0FE;\n",
              "      border: none;\n",
              "      border-radius: 50%;\n",
              "      cursor: pointer;\n",
              "      display: none;\n",
              "      fill: #1967D2;\n",
              "      height: 32px;\n",
              "      padding: 0 0 0 0;\n",
              "      width: 32px;\n",
              "    }\n",
              "\n",
              "    .colab-df-convert:hover {\n",
              "      background-color: #E2EBFA;\n",
              "      box-shadow: 0px 1px 2px rgba(60, 64, 67, 0.3), 0px 1px 3px 1px rgba(60, 64, 67, 0.15);\n",
              "      fill: #174EA6;\n",
              "    }\n",
              "\n",
              "    [theme=dark] .colab-df-convert {\n",
              "      background-color: #3B4455;\n",
              "      fill: #D2E3FC;\n",
              "    }\n",
              "\n",
              "    [theme=dark] .colab-df-convert:hover {\n",
              "      background-color: #434B5C;\n",
              "      box-shadow: 0px 1px 3px 1px rgba(0, 0, 0, 0.15);\n",
              "      filter: drop-shadow(0px 1px 2px rgba(0, 0, 0, 0.3));\n",
              "      fill: #FFFFFF;\n",
              "    }\n",
              "  </style>\n",
              "\n",
              "      <script>\n",
              "        const buttonEl =\n",
              "          document.querySelector('#df-bfe4f711-8644-401c-8a23-76f6531d3856 button.colab-df-convert');\n",
              "        buttonEl.style.display =\n",
              "          google.colab.kernel.accessAllowed ? 'block' : 'none';\n",
              "\n",
              "        async function convertToInteractive(key) {\n",
              "          const element = document.querySelector('#df-bfe4f711-8644-401c-8a23-76f6531d3856');\n",
              "          const dataTable =\n",
              "            await google.colab.kernel.invokeFunction('convertToInteractive',\n",
              "                                                     [key], {});\n",
              "          if (!dataTable) return;\n",
              "\n",
              "          const docLinkHtml = 'Like what you see? Visit the ' +\n",
              "            '<a target=\"_blank\" href=https://colab.research.google.com/notebooks/data_table.ipynb>data table notebook</a>'\n",
              "            + ' to learn more about interactive tables.';\n",
              "          element.innerHTML = '';\n",
              "          dataTable['output_type'] = 'display_data';\n",
              "          await google.colab.output.renderOutput(dataTable, element);\n",
              "          const docLink = document.createElement('div');\n",
              "          docLink.innerHTML = docLinkHtml;\n",
              "          element.appendChild(docLink);\n",
              "        }\n",
              "      </script>\n",
              "    </div>\n",
              "  </div>\n",
              "  "
            ]
          },
          "metadata": {},
          "execution_count": 99
        }
      ]
    },
    {
      "cell_type": "code",
      "source": [
        "import numpy as np\n",
        "\n",
        "conditions = [\n",
        "    (tips['total_bill'] >= 3) & (tips['total_bill'] <= 19),\n",
        "    (tips['total_bill'] >= 19) & (tips['total_bill'] <= 35),\n",
        "    (tips['total_bill'] >= 35) & (tips['total_bill'] <= 51)]\n",
        "choices = ['<19', '19-35', '>35']\n",
        "\n",
        "tips['tip_group'] = np.select(conditions, choices, default='0')\n",
        "tips"
      ],
      "metadata": {
        "colab": {
          "base_uri": "https://localhost:8080/",
          "height": 424
        },
        "id": "xGXYDQssDHBr",
        "outputId": "308c804d-2413-4c58-8325-e03bf4c75094"
      },
      "execution_count": null,
      "outputs": [
        {
          "output_type": "execute_result",
          "data": {
            "text/plain": [
              "     total_bill   tip     sex smoker   day    time  size tip_group\n",
              "0         16.99  1.01  Female     No   Sun  Dinner     2       <19\n",
              "1         10.34  1.66    Male     No   Sun  Dinner     3       <19\n",
              "2         21.01  3.50    Male     No   Sun  Dinner     3     19-35\n",
              "3         23.68  3.31    Male     No   Sun  Dinner     2     19-35\n",
              "4         24.59  3.61  Female     No   Sun  Dinner     4     19-35\n",
              "..          ...   ...     ...    ...   ...     ...   ...       ...\n",
              "239       29.03  5.92    Male     No   Sat  Dinner     3     19-35\n",
              "240       27.18  2.00  Female    Yes   Sat  Dinner     2     19-35\n",
              "241       22.67  2.00    Male    Yes   Sat  Dinner     2     19-35\n",
              "242       17.82  1.75    Male     No   Sat  Dinner     2       <19\n",
              "243       18.78  3.00  Female     No  Thur  Dinner     2       <19\n",
              "\n",
              "[244 rows x 8 columns]"
            ],
            "text/html": [
              "\n",
              "  <div id=\"df-5e23a203-b912-4600-a9ca-97ff27b2f02f\">\n",
              "    <div class=\"colab-df-container\">\n",
              "      <div>\n",
              "<style scoped>\n",
              "    .dataframe tbody tr th:only-of-type {\n",
              "        vertical-align: middle;\n",
              "    }\n",
              "\n",
              "    .dataframe tbody tr th {\n",
              "        vertical-align: top;\n",
              "    }\n",
              "\n",
              "    .dataframe thead th {\n",
              "        text-align: right;\n",
              "    }\n",
              "</style>\n",
              "<table border=\"1\" class=\"dataframe\">\n",
              "  <thead>\n",
              "    <tr style=\"text-align: right;\">\n",
              "      <th></th>\n",
              "      <th>total_bill</th>\n",
              "      <th>tip</th>\n",
              "      <th>sex</th>\n",
              "      <th>smoker</th>\n",
              "      <th>day</th>\n",
              "      <th>time</th>\n",
              "      <th>size</th>\n",
              "      <th>tip_group</th>\n",
              "    </tr>\n",
              "  </thead>\n",
              "  <tbody>\n",
              "    <tr>\n",
              "      <th>0</th>\n",
              "      <td>16.99</td>\n",
              "      <td>1.01</td>\n",
              "      <td>Female</td>\n",
              "      <td>No</td>\n",
              "      <td>Sun</td>\n",
              "      <td>Dinner</td>\n",
              "      <td>2</td>\n",
              "      <td>&lt;19</td>\n",
              "    </tr>\n",
              "    <tr>\n",
              "      <th>1</th>\n",
              "      <td>10.34</td>\n",
              "      <td>1.66</td>\n",
              "      <td>Male</td>\n",
              "      <td>No</td>\n",
              "      <td>Sun</td>\n",
              "      <td>Dinner</td>\n",
              "      <td>3</td>\n",
              "      <td>&lt;19</td>\n",
              "    </tr>\n",
              "    <tr>\n",
              "      <th>2</th>\n",
              "      <td>21.01</td>\n",
              "      <td>3.50</td>\n",
              "      <td>Male</td>\n",
              "      <td>No</td>\n",
              "      <td>Sun</td>\n",
              "      <td>Dinner</td>\n",
              "      <td>3</td>\n",
              "      <td>19-35</td>\n",
              "    </tr>\n",
              "    <tr>\n",
              "      <th>3</th>\n",
              "      <td>23.68</td>\n",
              "      <td>3.31</td>\n",
              "      <td>Male</td>\n",
              "      <td>No</td>\n",
              "      <td>Sun</td>\n",
              "      <td>Dinner</td>\n",
              "      <td>2</td>\n",
              "      <td>19-35</td>\n",
              "    </tr>\n",
              "    <tr>\n",
              "      <th>4</th>\n",
              "      <td>24.59</td>\n",
              "      <td>3.61</td>\n",
              "      <td>Female</td>\n",
              "      <td>No</td>\n",
              "      <td>Sun</td>\n",
              "      <td>Dinner</td>\n",
              "      <td>4</td>\n",
              "      <td>19-35</td>\n",
              "    </tr>\n",
              "    <tr>\n",
              "      <th>...</th>\n",
              "      <td>...</td>\n",
              "      <td>...</td>\n",
              "      <td>...</td>\n",
              "      <td>...</td>\n",
              "      <td>...</td>\n",
              "      <td>...</td>\n",
              "      <td>...</td>\n",
              "      <td>...</td>\n",
              "    </tr>\n",
              "    <tr>\n",
              "      <th>239</th>\n",
              "      <td>29.03</td>\n",
              "      <td>5.92</td>\n",
              "      <td>Male</td>\n",
              "      <td>No</td>\n",
              "      <td>Sat</td>\n",
              "      <td>Dinner</td>\n",
              "      <td>3</td>\n",
              "      <td>19-35</td>\n",
              "    </tr>\n",
              "    <tr>\n",
              "      <th>240</th>\n",
              "      <td>27.18</td>\n",
              "      <td>2.00</td>\n",
              "      <td>Female</td>\n",
              "      <td>Yes</td>\n",
              "      <td>Sat</td>\n",
              "      <td>Dinner</td>\n",
              "      <td>2</td>\n",
              "      <td>19-35</td>\n",
              "    </tr>\n",
              "    <tr>\n",
              "      <th>241</th>\n",
              "      <td>22.67</td>\n",
              "      <td>2.00</td>\n",
              "      <td>Male</td>\n",
              "      <td>Yes</td>\n",
              "      <td>Sat</td>\n",
              "      <td>Dinner</td>\n",
              "      <td>2</td>\n",
              "      <td>19-35</td>\n",
              "    </tr>\n",
              "    <tr>\n",
              "      <th>242</th>\n",
              "      <td>17.82</td>\n",
              "      <td>1.75</td>\n",
              "      <td>Male</td>\n",
              "      <td>No</td>\n",
              "      <td>Sat</td>\n",
              "      <td>Dinner</td>\n",
              "      <td>2</td>\n",
              "      <td>&lt;19</td>\n",
              "    </tr>\n",
              "    <tr>\n",
              "      <th>243</th>\n",
              "      <td>18.78</td>\n",
              "      <td>3.00</td>\n",
              "      <td>Female</td>\n",
              "      <td>No</td>\n",
              "      <td>Thur</td>\n",
              "      <td>Dinner</td>\n",
              "      <td>2</td>\n",
              "      <td>&lt;19</td>\n",
              "    </tr>\n",
              "  </tbody>\n",
              "</table>\n",
              "<p>244 rows × 8 columns</p>\n",
              "</div>\n",
              "      <button class=\"colab-df-convert\" onclick=\"convertToInteractive('df-5e23a203-b912-4600-a9ca-97ff27b2f02f')\"\n",
              "              title=\"Convert this dataframe to an interactive table.\"\n",
              "              style=\"display:none;\">\n",
              "        \n",
              "  <svg xmlns=\"http://www.w3.org/2000/svg\" height=\"24px\"viewBox=\"0 0 24 24\"\n",
              "       width=\"24px\">\n",
              "    <path d=\"M0 0h24v24H0V0z\" fill=\"none\"/>\n",
              "    <path d=\"M18.56 5.44l.94 2.06.94-2.06 2.06-.94-2.06-.94-.94-2.06-.94 2.06-2.06.94zm-11 1L8.5 8.5l.94-2.06 2.06-.94-2.06-.94L8.5 2.5l-.94 2.06-2.06.94zm10 10l.94 2.06.94-2.06 2.06-.94-2.06-.94-.94-2.06-.94 2.06-2.06.94z\"/><path d=\"M17.41 7.96l-1.37-1.37c-.4-.4-.92-.59-1.43-.59-.52 0-1.04.2-1.43.59L10.3 9.45l-7.72 7.72c-.78.78-.78 2.05 0 2.83L4 21.41c.39.39.9.59 1.41.59.51 0 1.02-.2 1.41-.59l7.78-7.78 2.81-2.81c.8-.78.8-2.07 0-2.86zM5.41 20L4 18.59l7.72-7.72 1.47 1.35L5.41 20z\"/>\n",
              "  </svg>\n",
              "      </button>\n",
              "      \n",
              "  <style>\n",
              "    .colab-df-container {\n",
              "      display:flex;\n",
              "      flex-wrap:wrap;\n",
              "      gap: 12px;\n",
              "    }\n",
              "\n",
              "    .colab-df-convert {\n",
              "      background-color: #E8F0FE;\n",
              "      border: none;\n",
              "      border-radius: 50%;\n",
              "      cursor: pointer;\n",
              "      display: none;\n",
              "      fill: #1967D2;\n",
              "      height: 32px;\n",
              "      padding: 0 0 0 0;\n",
              "      width: 32px;\n",
              "    }\n",
              "\n",
              "    .colab-df-convert:hover {\n",
              "      background-color: #E2EBFA;\n",
              "      box-shadow: 0px 1px 2px rgba(60, 64, 67, 0.3), 0px 1px 3px 1px rgba(60, 64, 67, 0.15);\n",
              "      fill: #174EA6;\n",
              "    }\n",
              "\n",
              "    [theme=dark] .colab-df-convert {\n",
              "      background-color: #3B4455;\n",
              "      fill: #D2E3FC;\n",
              "    }\n",
              "\n",
              "    [theme=dark] .colab-df-convert:hover {\n",
              "      background-color: #434B5C;\n",
              "      box-shadow: 0px 1px 3px 1px rgba(0, 0, 0, 0.15);\n",
              "      filter: drop-shadow(0px 1px 2px rgba(0, 0, 0, 0.3));\n",
              "      fill: #FFFFFF;\n",
              "    }\n",
              "  </style>\n",
              "\n",
              "      <script>\n",
              "        const buttonEl =\n",
              "          document.querySelector('#df-5e23a203-b912-4600-a9ca-97ff27b2f02f button.colab-df-convert');\n",
              "        buttonEl.style.display =\n",
              "          google.colab.kernel.accessAllowed ? 'block' : 'none';\n",
              "\n",
              "        async function convertToInteractive(key) {\n",
              "          const element = document.querySelector('#df-5e23a203-b912-4600-a9ca-97ff27b2f02f');\n",
              "          const dataTable =\n",
              "            await google.colab.kernel.invokeFunction('convertToInteractive',\n",
              "                                                     [key], {});\n",
              "          if (!dataTable) return;\n",
              "\n",
              "          const docLinkHtml = 'Like what you see? Visit the ' +\n",
              "            '<a target=\"_blank\" href=https://colab.research.google.com/notebooks/data_table.ipynb>data table notebook</a>'\n",
              "            + ' to learn more about interactive tables.';\n",
              "          element.innerHTML = '';\n",
              "          dataTable['output_type'] = 'display_data';\n",
              "          await google.colab.output.renderOutput(dataTable, element);\n",
              "          const docLink = document.createElement('div');\n",
              "          docLink.innerHTML = docLinkHtml;\n",
              "          element.appendChild(docLink);\n",
              "        }\n",
              "      </script>\n",
              "    </div>\n",
              "  </div>\n",
              "  "
            ]
          },
          "metadata": {},
          "execution_count": 103
        }
      ]
    },
    {
      "cell_type": "code",
      "source": [
        "sns.displot(data = tips, x = 'tip_group')"
      ],
      "metadata": {
        "colab": {
          "base_uri": "https://localhost:8080/",
          "height": 383
        },
        "id": "FuyV44v6F66z",
        "outputId": "adcf930f-5c91-423e-990c-395a51693c3b"
      },
      "execution_count": null,
      "outputs": [
        {
          "output_type": "execute_result",
          "data": {
            "text/plain": [
              "<seaborn.axisgrid.FacetGrid at 0x7effeb2f3610>"
            ]
          },
          "metadata": {},
          "execution_count": 104
        },
        {
          "output_type": "display_data",
          "data": {
            "text/plain": [
              "<Figure size 360x360 with 1 Axes>"
            ],
            "image/png": "[encoded data removed]"
          },
          "metadata": {}
        }
      ]
    },
    {
      "cell_type": "code",
      "source": [
        "sns.displot(data = tips, x = 'tip_group', stat = 'density')"
      ],
      "metadata": {
        "colab": {
          "base_uri": "https://localhost:8080/",
          "height": 383
        },
        "id": "IjtEiF1TGLcO",
        "outputId": "8d2c443e-a41a-41f7-dc24-f358c64a19ce"
      },
      "execution_count": null,
      "outputs": [
        {
          "output_type": "execute_result",
          "data": {
            "text/plain": [
              "<seaborn.axisgrid.FacetGrid at 0x7effeb549d10>"
            ]
          },
          "metadata": {},
          "execution_count": 105
        },
        {
          "output_type": "display_data",
          "data": {
            "text/plain": [
              "<Figure size 360x360 with 1 Axes>"
            ],
            "image/png": "[encoded data removed]"
          },
          "metadata": {}
        }
      ]
    },
    {
      "cell_type": "markdown",
      "source": [
        "## Биноминальное распределение"
      ],
      "metadata": {
        "id": "qEitjorU-Uq6"
      }
    },
    {
      "cell_type": "markdown",
      "source": [
        "![photo_2022-10-20_19-29-44.jpg](data:image/jpeg;base64,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)"
      ],
      "metadata": {
        "id": "0g1BbQ3_A9uC"
      }
    },
    {
      "cell_type": "code",
      "source": [
        "from numpy import random\n",
        "\n",
        "random.binomial(n=30, p=.25, size=10)\n",
        "\n",
        "#https://numpy.org/doc/stable/reference/random/generated/numpy.random.binomial.html"
      ],
      "metadata": {
        "colab": {
          "base_uri": "https://localhost:8080/"
        },
        "id": "1j_K1KBP-QqG",
        "outputId": "cf1da0d7-e0ec-4a00-f021-82c6b49f0b09"
      },
      "execution_count": null,
      "outputs": [
        {
          "output_type": "execute_result",
          "data": {
            "text/plain": [
              "array([6, 9, 6, 3, 4, 8, 5, 8, 9, 9])"
            ]
          },
          "metadata": {},
          "execution_count": 83
        }
      ]
    },
    {
      "cell_type": "markdown",
      "source": [
        "Максим Манчестеров забивает 60% голов в матчах. Если всего будет 5 голов за матч, какова вероятность того, что он забьет ровно 3?"
      ],
      "metadata": {
        "id": "QY4KAbZd-4pJ"
      }
    },
    {
      "cell_type": "code",
      "source": [
        "#Probability mass function\n",
        "#функция вероятности\n",
        "\n",
        "from scipy.stats import binom\n",
        "\n",
        "binom.pmf(k= 3 , n= 5 , p= 0.6 )"
      ],
      "metadata": {
        "colab": {
          "base_uri": "https://localhost:8080/"
        },
        "id": "iJytjL1w-vIB",
        "outputId": "2889c7e4-5e74-49bf-c935-258b7c560585"
      },
      "execution_count": null,
      "outputs": [
        {
          "output_type": "execute_result",
          "data": {
            "text/plain": [
              "0.3455999999999997"
            ]
          },
          "metadata": {},
          "execution_count": 84
        }
      ]
    },
    {
      "cell_type": "markdown",
      "source": [
        "Известно, что 80% сотудников поддерживают 4-дневную рабочую неделю. Если наугад выбрать 20 человек, какова вероятность того, что 15 из них поддержат закон?"
      ],
      "metadata": {
        "id": "9gfAQKdG__HM"
      }
    },
    {
      "cell_type": "code",
      "source": [
        "#Cumulative distribution function\n",
        "#функция распределения\n",
        "\n",
        "from scipy.stats import binom\n",
        "\n",
        "binom.cdf(k = 18 , n = 20 , p = 0.8 ) - binom.cdf(k = 15 , n = 20 , p = 0.8 ) "
      ],
      "metadata": {
        "colab": {
          "base_uri": "https://localhost:8080/"
        },
        "id": "wEkKvCye-t9O",
        "outputId": "40b150c4-5bd8-4171-af4a-7597c0084ff5"
      },
      "execution_count": null,
      "outputs": [
        {
          "output_type": "execute_result",
          "data": {
            "text/plain": [
              "0.5604729736262583"
            ]
          },
          "metadata": {},
          "execution_count": 109
        }
      ]
    },
    {
      "cell_type": "code",
      "source": [
        "#Cumulative distribution function\n",
        "#функция распределения\n",
        "\n",
        "from scipy.stats import binom\n",
        "\n",
        "binom.cdf(k = 5 , n = 10 , p = 0.8 ) "
      ],
      "metadata": {
        "colab": {
          "base_uri": "https://localhost:8080/"
        },
        "id": "b5ZtLFR5AY0F",
        "outputId": "748a7851-4126-4cdc-8769-42179020dd71"
      },
      "execution_count": null,
      "outputs": [
        {
          "output_type": "execute_result",
          "data": {
            "text/plain": [
              "0.03279349759999997"
            ]
          },
          "metadata": {},
          "execution_count": 87
        }
      ]
    },
    {
      "cell_type": "code",
      "source": [
        "396704524216/17310309456440 "
      ],
      "metadata": {
        "colab": {
          "base_uri": "https://localhost:8080/"
        },
        "id": "LxHKUrNIby7q",
        "outputId": "08335586-dec0-4312-cf57-f7c0ef0329a5"
      },
      "execution_count": null,
      "outputs": [
        {
          "output_type": "execute_result",
          "data": {
            "text/plain": [
              "0.022917240458021564"
            ]
          },
          "metadata": {},
          "execution_count": 110
        }
      ]
    },
    {
      "cell_type": "code",
      "source": [
        "binom.cdf(k = 10 , n = 20 , p = 0.7 ) "
      ],
      "metadata": {
        "colab": {
          "base_uri": "https://localhost:8080/"
        },
        "id": "EOy-6dlvb6cV",
        "outputId": "9dddab95-0496-40db-c294-e2c0bc8d6781"
      },
      "execution_count": null,
      "outputs": [
        {
          "output_type": "execute_result",
          "data": {
            "text/plain": [
              "0.047961897331343525"
            ]
          },
          "metadata": {},
          "execution_count": 111
        }
      ]
    },
    {
      "cell_type": "markdown",
      "source": [
        "В городе N живет 100 жителей. Компания хочет запустить рекламу нового сервиса на  площадке, которая обещает, что 70 жителей города увидят рекламу. Какая вероятность, что случайно выбранных 10 жителей города, после запуска рекламы, скажут, что видели ее? Ответ нужно вводить в формате десятичной дроби с 2 знаками после запятой.\n"
      ],
      "metadata": {
        "id": "4Tx2VKT_b_Fo"
      }
    },
    {
      "cell_type": "code",
      "source": [],
      "metadata": {
        "id": "mJnLedvOb_l6"
      },
      "execution_count": null,
      "outputs": []
    }
  ]
}