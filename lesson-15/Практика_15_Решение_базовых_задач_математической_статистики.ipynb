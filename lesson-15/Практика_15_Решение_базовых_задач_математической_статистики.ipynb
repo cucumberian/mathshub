{
  "nbformat": 4,
  "nbformat_minor": 0,
  "metadata": {
    "colab": {
      "provenance": []
    },
    "kernelspec": {
      "name": "python3",
      "display_name": "Python 3"
    },
    "language_info": {
      "name": "python"
    }
  },
  "cells": [
    {
      "cell_type": "markdown",
      "source": [
        "# Решение базовых задач математической статистики"
      ],
      "metadata": {
        "id": "CLisgkGwUFe-"
      }
    },
    {
      "cell_type": "code",
      "execution_count": null,
      "metadata": {
        "id": "hDorBwQsT1yJ"
      },
      "outputs": [],
      "source": [
        "#mean - среднее\n",
        "#median - медиана\n",
        "#mode - мода"
      ]
    },
    {
      "cell_type": "markdown",
      "source": [
        "Среднее арифметическое для выборки: 𝑋̅ = ∑𝑋/n "
      ],
      "metadata": {
        "id": "MoCIpg_MUatz"
      }
    },
    {
      "cell_type": "code",
      "source": [
        "tries_list = [5,8,9,23,12,66,3,1,1,2,3]"
      ],
      "metadata": {
        "id": "OWRGVzvsUXMc"
      },
      "execution_count": null,
      "outputs": []
    },
    {
      "cell_type": "code",
      "source": [
        "5+8+9+23+12+66+3+1+1+2+3"
      ],
      "metadata": {
        "colab": {
          "base_uri": "https://localhost:8080/"
        },
        "id": "MvWFv2PwWqXx",
        "outputId": "accebb2e-f087-408d-a09f-1d52eabdc012"
      },
      "execution_count": null,
      "outputs": [
        {
          "output_type": "execute_result",
          "data": {
            "text/plain": [
              "133"
            ]
          },
          "metadata": {},
          "execution_count": 37
        }
      ]
    },
    {
      "cell_type": "code",
      "source": [
        "133/11"
      ],
      "metadata": {
        "colab": {
          "base_uri": "https://localhost:8080/"
        },
        "id": "ce9tBlvNWvA7",
        "outputId": "1ed37874-2792-418c-99d8-ecb30e4c3e2c"
      },
      "execution_count": null,
      "outputs": [
        {
          "output_type": "execute_result",
          "data": {
            "text/plain": [
              "12.090909090909092"
            ]
          },
          "metadata": {},
          "execution_count": 38
        }
      ]
    },
    {
      "cell_type": "code",
      "source": [
        "from statistics import mean"
      ],
      "metadata": {
        "id": "ZRNZ_tuVWxbS"
      },
      "execution_count": null,
      "outputs": []
    },
    {
      "cell_type": "code",
      "source": [
        "mean(tries_list)"
      ],
      "metadata": {
        "colab": {
          "base_uri": "https://localhost:8080/"
        },
        "id": "nqgs9g26W3dn",
        "outputId": "58fd1ce2-37dd-46b3-d1cd-76ea6d620850"
      },
      "execution_count": null,
      "outputs": [
        {
          "output_type": "execute_result",
          "data": {
            "text/plain": [
              "12.090909090909092"
            ]
          },
          "metadata": {},
          "execution_count": 40
        }
      ]
    },
    {
      "cell_type": "markdown",
      "source": [
        "Медиана для дискретного ряда\n",
        "\n",
        "![median](https://nashaucheba.ru/docs/60/59048/conv_1/file1_html_m47e777e3.gif)\n",
        "\n"
      ],
      "metadata": {
        "id": "kZMqk5_UXgVs"
      }
    },
    {
      "cell_type": "code",
      "source": [
        "tries_list = [5,8,9,23,12,66,3,1,1,2]"
      ],
      "metadata": {
        "id": "v4zG3ZRBW9oe"
      },
      "execution_count": null,
      "outputs": []
    },
    {
      "cell_type": "code",
      "source": [
        "sorted(tries_list)"
      ],
      "metadata": {
        "colab": {
          "base_uri": "https://localhost:8080/"
        },
        "id": "POCs9lVcYzAm",
        "outputId": "eb4a2358-b5c8-48a3-ba20-5593a5f287b4"
      },
      "execution_count": null,
      "outputs": [
        {
          "output_type": "execute_result",
          "data": {
            "text/plain": [
              "[1, 1, 2, 3, 5, 8, 9, 12, 23, 66]"
            ]
          },
          "metadata": {},
          "execution_count": 48
        }
      ]
    },
    {
      "cell_type": "code",
      "source": [
        "len(tries_list)"
      ],
      "metadata": {
        "colab": {
          "base_uri": "https://localhost:8080/"
        },
        "id": "c70S2YRbJK-Q",
        "outputId": "709e25fd-0bd9-447f-b7a8-bfefc16d82f9"
      },
      "execution_count": null,
      "outputs": [
        {
          "output_type": "execute_result",
          "data": {
            "text/plain": [
              "10"
            ]
          },
          "metadata": {},
          "execution_count": 45
        }
      ]
    },
    {
      "cell_type": "code",
      "source": [
        "#x(10/2) + x((10+2)/2) = x5 + x6 = 5 + 8 = 13 "
      ],
      "metadata": {
        "id": "zWlY07NsJT0H"
      },
      "execution_count": null,
      "outputs": []
    },
    {
      "cell_type": "code",
      "source": [
        "13/2"
      ],
      "metadata": {
        "colab": {
          "base_uri": "https://localhost:8080/"
        },
        "id": "qb00-NpvJrMd",
        "outputId": "36586c1a-1fc0-45e6-a540-131cf3abe524"
      },
      "execution_count": null,
      "outputs": [
        {
          "output_type": "execute_result",
          "data": {
            "text/plain": [
              "6.5"
            ]
          },
          "metadata": {},
          "execution_count": 49
        }
      ]
    },
    {
      "cell_type": "code",
      "source": [
        "#x(11+1)/2 = x6 = 5"
      ],
      "metadata": {
        "id": "PDJ74O2YYDii"
      },
      "execution_count": null,
      "outputs": []
    },
    {
      "cell_type": "code",
      "source": [
        "from statistics import median"
      ],
      "metadata": {
        "id": "mkqepb6tYWnY"
      },
      "execution_count": null,
      "outputs": []
    },
    {
      "cell_type": "code",
      "source": [
        "median(tries_list)"
      ],
      "metadata": {
        "colab": {
          "base_uri": "https://localhost:8080/"
        },
        "id": "apXpbwT6Yex4",
        "outputId": "0a6beb15-a451-47f2-9e21-f237c2a7cf57"
      },
      "execution_count": null,
      "outputs": [
        {
          "output_type": "execute_result",
          "data": {
            "text/plain": [
              "6.5"
            ]
          },
          "metadata": {},
          "execution_count": 47
        }
      ]
    },
    {
      "cell_type": "markdown",
      "source": [
        "Мода для дискретного ряда - значение, которое чаще всего встречается в статистическом ряду (вариант с наибольшой частотой)"
      ],
      "metadata": {
        "id": "r_m9BVekZJcE"
      }
    },
    {
      "cell_type": "markdown",
      "source": [
        "* Если все значения встречаются одинаково часто, значит мы не можем определить\n",
        "моду.\n",
        "* Rогда два соседних (смежных) значения имеют одинаковую частоту и их частота больше частот любых других значений, мода вычисляется как среднее арифметическое этих двух значении.\n",
        "* Если два несмежных (не соседних) значения в выборке имеют равные частоты которые больше частот любого другого значения, то выделяют две моды. В таком случае выборка будет **бимодальной**.\n",
        "\n"
      ],
      "metadata": {
        "id": "_F9jm3r_aLap"
      }
    },
    {
      "cell_type": "code",
      "source": [
        "import collections"
      ],
      "metadata": {
        "id": "hLxI1jd0ZxtH"
      },
      "execution_count": null,
      "outputs": []
    },
    {
      "cell_type": "code",
      "source": [
        "counter = collections.Counter(tries_list)"
      ],
      "metadata": {
        "id": "9Bb07_ijZvD-"
      },
      "execution_count": null,
      "outputs": []
    },
    {
      "cell_type": "code",
      "source": [
        "counter"
      ],
      "metadata": {
        "colab": {
          "base_uri": "https://localhost:8080/"
        },
        "id": "kW4D1zjbZ8Hx",
        "outputId": "616633c4-ccd3-4587-80b0-0c71906c3073"
      },
      "execution_count": null,
      "outputs": [
        {
          "output_type": "execute_result",
          "data": {
            "text/plain": [
              "Counter({5: 1, 8: 1, 9: 1, 23: 1, 12: 1, 66: 1, 3: 1, 1: 2, 2: 1})"
            ]
          },
          "metadata": {},
          "execution_count": 52
        }
      ]
    },
    {
      "cell_type": "code",
      "source": [
        "from statistics import mode\n",
        "#from statistics import multimode"
      ],
      "metadata": {
        "id": "b33b2WXTZ9xm"
      },
      "execution_count": null,
      "outputs": []
    },
    {
      "cell_type": "code",
      "source": [
        "mode(tries_list)"
      ],
      "metadata": {
        "colab": {
          "base_uri": "https://localhost:8080/"
        },
        "id": "JEbsTYnYakQx",
        "outputId": "ac81db1c-6501-4388-c696-6f5cdf4f62b9"
      },
      "execution_count": null,
      "outputs": [
        {
          "output_type": "execute_result",
          "data": {
            "text/plain": [
              "1"
            ]
          },
          "metadata": {},
          "execution_count": 54
        }
      ]
    },
    {
      "cell_type": "code",
      "source": [
        "import pandas as pd"
      ],
      "metadata": {
        "id": "flDt5ecGa1za"
      },
      "execution_count": null,
      "outputs": []
    },
    {
      "cell_type": "code",
      "source": [
        "from google.colab import drive \n",
        "drive.mount('/content/gdrive')"
      ],
      "metadata": {
        "colab": {
          "base_uri": "https://localhost:8080/"
        },
        "id": "gKdpbzTFe5lI",
        "outputId": "e091d67f-8dc6-4d36-ee87-96c6f2f3e492"
      },
      "execution_count": null,
      "outputs": [
        {
          "output_type": "stream",
          "name": "stdout",
          "text": [
            "Mounted at /content/gdrive\n"
          ]
        }
      ]
    },
    {
      "cell_type": "code",
      "source": [
        "music = pd.read_csv('gdrive/My Drive/spotify_dataset.csv')"
      ],
      "metadata": {
        "id": "L09cssdyeXUk"
      },
      "execution_count": null,
      "outputs": []
    },
    {
      "cell_type": "code",
      "source": [
        "music.head()"
      ],
      "metadata": {
        "colab": {
          "base_uri": "https://localhost:8080/",
          "height": 392
        },
        "id": "3i2-bdG5fCCA",
        "outputId": "91b12048-1d56-4783-e935-05a1cecab43d"
      },
      "execution_count": null,
      "outputs": [
        {
          "output_type": "execute_result",
          "data": {
            "text/plain": [
              "                   track            artist  \\\n",
              "0  Jealous Kind Of Fella     Garland Green   \n",
              "1          Initials B.B.  Serge Gainsbourg   \n",
              "2           Melody Twist       Lord Melody   \n",
              "3          Mi Bomba Sonó        Celia Cruz   \n",
              "4            Uravu Solla       P. Susheela   \n",
              "\n",
              "                                    uri  danceability  energy  key  loudness  \\\n",
              "0  spotify:track:1dtKN6wwlolkM8XZy2y9C1         0.417   0.620    3    -7.727   \n",
              "1  spotify:track:5hjsmSnUefdUqzsDogisiX         0.498   0.505    3   -12.475   \n",
              "2  spotify:track:6uk8tI6pwxxdVTNlNOJeJh         0.657   0.649    5   -13.392   \n",
              "3  spotify:track:7aNjMJ05FvUXACPWZ7yJmv         0.590   0.545    7   -12.058   \n",
              "4  spotify:track:1rQ0clvgkzWr001POOPJWx         0.515   0.765   11    -3.515   \n",
              "\n",
              "   mode  speechiness  acousticness  instrumentalness  liveness  valence  \\\n",
              "0     1       0.0403         0.490          0.000000    0.0779    0.845   \n",
              "1     1       0.0337         0.018          0.107000    0.1760    0.797   \n",
              "2     1       0.0380         0.846          0.000004    0.1190    0.908   \n",
              "3     0       0.1040         0.706          0.024600    0.0610    0.967   \n",
              "4     0       0.1240         0.857          0.000872    0.2130    0.906   \n",
              "\n",
              "     tempo  duration_ms  time_signature  chorus_hit  sections  popularity  \\\n",
              "0  185.655       173533               3    32.94975         9           1   \n",
              "1  101.801       213613               4    48.82510        10           0   \n",
              "2  115.940       223960               4    37.22663        12           0   \n",
              "3  105.592       157907               4    24.75484         8           0   \n",
              "4  114.617       245600               4    21.79874        14           0   \n",
              "\n",
              "  decade  \n",
              "0    60s  \n",
              "1    60s  \n",
              "2    60s  \n",
              "3    60s  \n",
              "4    60s  "
            ],
            "text/html": [
              "\n",
              "  <div id=\"df-23298779-6b49-4835-bece-c98ce4b892aa\">\n",
              "    <div class=\"colab-df-container\">\n",
              "      <div>\n",
              "<style scoped>\n",
              "    .dataframe tbody tr th:only-of-type {\n",
              "        vertical-align: middle;\n",
              "    }\n",
              "\n",
              "    .dataframe tbody tr th {\n",
              "        vertical-align: top;\n",
              "    }\n",
              "\n",
              "    .dataframe thead th {\n",
              "        text-align: right;\n",
              "    }\n",
              "</style>\n",
              "<table border=\"1\" class=\"dataframe\">\n",
              "  <thead>\n",
              "    <tr style=\"text-align: right;\">\n",
              "      <th></th>\n",
              "      <th>track</th>\n",
              "      <th>artist</th>\n",
              "      <th>uri</th>\n",
              "      <th>danceability</th>\n",
              "      <th>energy</th>\n",
              "      <th>key</th>\n",
              "      <th>loudness</th>\n",
              "      <th>mode</th>\n",
              "      <th>speechiness</th>\n",
              "      <th>acousticness</th>\n",
              "      <th>instrumentalness</th>\n",
              "      <th>liveness</th>\n",
              "      <th>valence</th>\n",
              "      <th>tempo</th>\n",
              "      <th>duration_ms</th>\n",
              "      <th>time_signature</th>\n",
              "      <th>chorus_hit</th>\n",
              "      <th>sections</th>\n",
              "      <th>popularity</th>\n",
              "      <th>decade</th>\n",
              "    </tr>\n",
              "  </thead>\n",
              "  <tbody>\n",
              "    <tr>\n",
              "      <th>0</th>\n",
              "      <td>Jealous Kind Of Fella</td>\n",
              "      <td>Garland Green</td>\n",
              "      <td>spotify:track:1dtKN6wwlolkM8XZy2y9C1</td>\n",
              "      <td>0.417</td>\n",
              "      <td>0.620</td>\n",
              "      <td>3</td>\n",
              "      <td>-7.727</td>\n",
              "      <td>1</td>\n",
              "      <td>0.0403</td>\n",
              "      <td>0.490</td>\n",
              "      <td>0.000000</td>\n",
              "      <td>0.0779</td>\n",
              "      <td>0.845</td>\n",
              "      <td>185.655</td>\n",
              "      <td>173533</td>\n",
              "      <td>3</td>\n",
              "      <td>32.94975</td>\n",
              "      <td>9</td>\n",
              "      <td>1</td>\n",
              "      <td>60s</td>\n",
              "    </tr>\n",
              "    <tr>\n",
              "      <th>1</th>\n",
              "      <td>Initials B.B.</td>\n",
              "      <td>Serge Gainsbourg</td>\n",
              "      <td>spotify:track:5hjsmSnUefdUqzsDogisiX</td>\n",
              "      <td>0.498</td>\n",
              "      <td>0.505</td>\n",
              "      <td>3</td>\n",
              "      <td>-12.475</td>\n",
              "      <td>1</td>\n",
              "      <td>0.0337</td>\n",
              "      <td>0.018</td>\n",
              "      <td>0.107000</td>\n",
              "      <td>0.1760</td>\n",
              "      <td>0.797</td>\n",
              "      <td>101.801</td>\n",
              "      <td>213613</td>\n",
              "      <td>4</td>\n",
              "      <td>48.82510</td>\n",
              "      <td>10</td>\n",
              "      <td>0</td>\n",
              "      <td>60s</td>\n",
              "    </tr>\n",
              "    <tr>\n",
              "      <th>2</th>\n",
              "      <td>Melody Twist</td>\n",
              "      <td>Lord Melody</td>\n",
              "      <td>spotify:track:6uk8tI6pwxxdVTNlNOJeJh</td>\n",
              "      <td>0.657</td>\n",
              "      <td>0.649</td>\n",
              "      <td>5</td>\n",
              "      <td>-13.392</td>\n",
              "      <td>1</td>\n",
              "      <td>0.0380</td>\n",
              "      <td>0.846</td>\n",
              "      <td>0.000004</td>\n",
              "      <td>0.1190</td>\n",
              "      <td>0.908</td>\n",
              "      <td>115.940</td>\n",
              "      <td>223960</td>\n",
              "      <td>4</td>\n",
              "      <td>37.22663</td>\n",
              "      <td>12</td>\n",
              "      <td>0</td>\n",
              "      <td>60s</td>\n",
              "    </tr>\n",
              "    <tr>\n",
              "      <th>3</th>\n",
              "      <td>Mi Bomba Sonó</td>\n",
              "      <td>Celia Cruz</td>\n",
              "      <td>spotify:track:7aNjMJ05FvUXACPWZ7yJmv</td>\n",
              "      <td>0.590</td>\n",
              "      <td>0.545</td>\n",
              "      <td>7</td>\n",
              "      <td>-12.058</td>\n",
              "      <td>0</td>\n",
              "      <td>0.1040</td>\n",
              "      <td>0.706</td>\n",
              "      <td>0.024600</td>\n",
              "      <td>0.0610</td>\n",
              "      <td>0.967</td>\n",
              "      <td>105.592</td>\n",
              "      <td>157907</td>\n",
              "      <td>4</td>\n",
              "      <td>24.75484</td>\n",
              "      <td>8</td>\n",
              "      <td>0</td>\n",
              "      <td>60s</td>\n",
              "    </tr>\n",
              "    <tr>\n",
              "      <th>4</th>\n",
              "      <td>Uravu Solla</td>\n",
              "      <td>P. Susheela</td>\n",
              "      <td>spotify:track:1rQ0clvgkzWr001POOPJWx</td>\n",
              "      <td>0.515</td>\n",
              "      <td>0.765</td>\n",
              "      <td>11</td>\n",
              "      <td>-3.515</td>\n",
              "      <td>0</td>\n",
              "      <td>0.1240</td>\n",
              "      <td>0.857</td>\n",
              "      <td>0.000872</td>\n",
              "      <td>0.2130</td>\n",
              "      <td>0.906</td>\n",
              "      <td>114.617</td>\n",
              "      <td>245600</td>\n",
              "      <td>4</td>\n",
              "      <td>21.79874</td>\n",
              "      <td>14</td>\n",
              "      <td>0</td>\n",
              "      <td>60s</td>\n",
              "    </tr>\n",
              "  </tbody>\n",
              "</table>\n",
              "</div>\n",
              "      <button class=\"colab-df-convert\" onclick=\"convertToInteractive('df-23298779-6b49-4835-bece-c98ce4b892aa')\"\n",
              "              title=\"Convert this dataframe to an interactive table.\"\n",
              "              style=\"display:none;\">\n",
              "        \n",
              "  <svg xmlns=\"http://www.w3.org/2000/svg\" height=\"24px\"viewBox=\"0 0 24 24\"\n",
              "       width=\"24px\">\n",
              "    <path d=\"M0 0h24v24H0V0z\" fill=\"none\"/>\n",
              "    <path d=\"M18.56 5.44l.94 2.06.94-2.06 2.06-.94-2.06-.94-.94-2.06-.94 2.06-2.06.94zm-11 1L8.5 8.5l.94-2.06 2.06-.94-2.06-.94L8.5 2.5l-.94 2.06-2.06.94zm10 10l.94 2.06.94-2.06 2.06-.94-2.06-.94-.94-2.06-.94 2.06-2.06.94z\"/><path d=\"M17.41 7.96l-1.37-1.37c-.4-.4-.92-.59-1.43-.59-.52 0-1.04.2-1.43.59L10.3 9.45l-7.72 7.72c-.78.78-.78 2.05 0 2.83L4 21.41c.39.39.9.59 1.41.59.51 0 1.02-.2 1.41-.59l7.78-7.78 2.81-2.81c.8-.78.8-2.07 0-2.86zM5.41 20L4 18.59l7.72-7.72 1.47 1.35L5.41 20z\"/>\n",
              "  </svg>\n",
              "      </button>\n",
              "      \n",
              "  <style>\n",
              "    .colab-df-container {\n",
              "      display:flex;\n",
              "      flex-wrap:wrap;\n",
              "      gap: 12px;\n",
              "    }\n",
              "\n",
              "    .colab-df-convert {\n",
              "      background-color: #E8F0FE;\n",
              "      border: none;\n",
              "      border-radius: 50%;\n",
              "      cursor: pointer;\n",
              "      display: none;\n",
              "      fill: #1967D2;\n",
              "      height: 32px;\n",
              "      padding: 0 0 0 0;\n",
              "      width: 32px;\n",
              "    }\n",
              "\n",
              "    .colab-df-convert:hover {\n",
              "      background-color: #E2EBFA;\n",
              "      box-shadow: 0px 1px 2px rgba(60, 64, 67, 0.3), 0px 1px 3px 1px rgba(60, 64, 67, 0.15);\n",
              "      fill: #174EA6;\n",
              "    }\n",
              "\n",
              "    [theme=dark] .colab-df-convert {\n",
              "      background-color: #3B4455;\n",
              "      fill: #D2E3FC;\n",
              "    }\n",
              "\n",
              "    [theme=dark] .colab-df-convert:hover {\n",
              "      background-color: #434B5C;\n",
              "      box-shadow: 0px 1px 3px 1px rgba(0, 0, 0, 0.15);\n",
              "      filter: drop-shadow(0px 1px 2px rgba(0, 0, 0, 0.3));\n",
              "      fill: #FFFFFF;\n",
              "    }\n",
              "  </style>\n",
              "\n",
              "      <script>\n",
              "        const buttonEl =\n",
              "          document.querySelector('#df-23298779-6b49-4835-bece-c98ce4b892aa button.colab-df-convert');\n",
              "        buttonEl.style.display =\n",
              "          google.colab.kernel.accessAllowed ? 'block' : 'none';\n",
              "\n",
              "        async function convertToInteractive(key) {\n",
              "          const element = document.querySelector('#df-23298779-6b49-4835-bece-c98ce4b892aa');\n",
              "          const dataTable =\n",
              "            await google.colab.kernel.invokeFunction('convertToInteractive',\n",
              "                                                     [key], {});\n",
              "          if (!dataTable) return;\n",
              "\n",
              "          const docLinkHtml = 'Like what you see? Visit the ' +\n",
              "            '<a target=\"_blank\" href=https://colab.research.google.com/notebooks/data_table.ipynb>data table notebook</a>'\n",
              "            + ' to learn more about interactive tables.';\n",
              "          element.innerHTML = '';\n",
              "          dataTable['output_type'] = 'display_data';\n",
              "          await google.colab.output.renderOutput(dataTable, element);\n",
              "          const docLink = document.createElement('div');\n",
              "          docLink.innerHTML = docLinkHtml;\n",
              "          element.appendChild(docLink);\n",
              "        }\n",
              "      </script>\n",
              "    </div>\n",
              "  </div>\n",
              "  "
            ]
          },
          "metadata": {},
          "execution_count": 55
        }
      ]
    },
    {
      "cell_type": "code",
      "source": [
        "music.mean()"
      ],
      "metadata": {
        "colab": {
          "base_uri": "https://localhost:8080/"
        },
        "id": "nW89sqa3fC_t",
        "outputId": "89e395cc-442e-4375-b1ff-0da6fcf8ca40"
      },
      "execution_count": null,
      "outputs": [
        {
          "output_type": "stream",
          "name": "stderr",
          "text": [
            "/usr/local/lib/python3.7/dist-packages/ipykernel_launcher.py:1: FutureWarning: Dropping of nuisance columns in DataFrame reductions (with 'numeric_only=None') is deprecated; in a future version this will raise TypeError.  Select only valid columns before calling the reduction.\n",
            "  \"\"\"Entry point for launching an IPython kernel.\n"
          ]
        },
        {
          "output_type": "execute_result",
          "data": {
            "text/plain": [
              "danceability             0.539683\n",
              "energy                   0.579544\n",
              "key                      5.213752\n",
              "loudness               -10.221446\n",
              "mode                     0.693375\n",
              "speechiness              0.072952\n",
              "acousticness             0.364232\n",
              "instrumentalness         0.154403\n",
              "liveness                 0.201534\n",
              "valence                  0.542450\n",
              "tempo                  119.336349\n",
              "duration_ms         234875.505122\n",
              "time_signature           3.893647\n",
              "chorus_hit              40.106896\n",
              "sections                10.475632\n",
              "popularity               0.499964\n",
              "dtype: float64"
            ]
          },
          "metadata": {},
          "execution_count": 7
        }
      ]
    },
    {
      "cell_type": "code",
      "source": [
        "music['duration_ms'].mean() #примерно 4 минуты"
      ],
      "metadata": {
        "colab": {
          "base_uri": "https://localhost:8080/"
        },
        "id": "oMYLgSjMfY1W",
        "outputId": "64fdec29-7c1f-4b59-9ccf-0ae0e4cf8453"
      },
      "execution_count": null,
      "outputs": [
        {
          "output_type": "execute_result",
          "data": {
            "text/plain": [
              "234875.5051217791"
            ]
          },
          "metadata": {},
          "execution_count": 9
        }
      ]
    },
    {
      "cell_type": "code",
      "source": [
        "music['duration_ms'].median()"
      ],
      "metadata": {
        "colab": {
          "base_uri": "https://localhost:8080/"
        },
        "id": "57zYJmlLfmfU",
        "outputId": "e4ed47d6-1d09-46ce-efe0-22dd449a0958"
      },
      "execution_count": null,
      "outputs": [
        {
          "output_type": "execute_result",
          "data": {
            "text/plain": [
              "217907.0"
            ]
          },
          "metadata": {},
          "execution_count": 10
        }
      ]
    },
    {
      "cell_type": "code",
      "source": [
        "music.describe()"
      ],
      "metadata": {
        "colab": {
          "base_uri": "https://localhost:8080/",
          "height": 279
        },
        "id": "zPUelBaefqZU",
        "outputId": "c6f8bddb-6b3b-438d-af37-c47f8af259de"
      },
      "execution_count": null,
      "outputs": [
        {
          "output_type": "execute_result",
          "data": {
            "text/plain": [
              "       danceability        energy           key      loudness          mode  \\\n",
              "count  41099.000000  41099.000000  41099.000000  41099.000000  41099.000000   \n",
              "mean       0.539683      0.579544      5.213752    -10.221446      0.693375   \n",
              "std        0.177808      0.252629      3.535060      5.311227      0.461098   \n",
              "min        0.000000      0.000251      0.000000    -49.253000      0.000000   \n",
              "25%        0.420000      0.396000      2.000000    -12.816500      0.000000   \n",
              "50%        0.552000      0.601000      5.000000     -9.257000      1.000000   \n",
              "75%        0.669000      0.787000      8.000000     -6.375000      1.000000   \n",
              "max        0.988000      1.000000     11.000000      3.744000      1.000000   \n",
              "\n",
              "        speechiness  acousticness  instrumentalness      liveness  \\\n",
              "count  41099.000000  41099.000000      41099.000000  41099.000000   \n",
              "mean       0.072952      0.364232          0.154403      0.201534   \n",
              "std        0.086106      0.338908          0.303518      0.172957   \n",
              "min        0.000000      0.000000          0.000000      0.013000   \n",
              "25%        0.033700      0.039400          0.000000      0.094000   \n",
              "50%        0.043400      0.258000          0.000120      0.132000   \n",
              "75%        0.069800      0.676000          0.061200      0.261000   \n",
              "max        0.960000      0.996000          1.000000      0.999000   \n",
              "\n",
              "            valence         tempo   duration_ms  time_signature    chorus_hit  \\\n",
              "count  41099.000000  41099.000000  4.109900e+04    41099.000000  41099.000000   \n",
              "mean       0.542450    119.336349  2.348755e+05        3.893647     40.106896   \n",
              "std        0.267333     29.099116  1.189696e+05        0.423072     19.006697   \n",
              "min        0.000000      0.000000  1.516800e+04        0.000000      0.000000   \n",
              "25%        0.330000     97.395500  1.729165e+05        4.000000     27.599510   \n",
              "50%        0.559000    117.564000  2.179070e+05        4.000000     35.850270   \n",
              "75%        0.768000    136.492000  2.667730e+05        4.000000     47.627240   \n",
              "max        0.996000    241.423000  4.170227e+06        5.000000    433.182000   \n",
              "\n",
              "           sections    popularity  \n",
              "count  41099.000000  41099.000000  \n",
              "mean      10.475632      0.499964  \n",
              "std        4.872026      0.500006  \n",
              "min        0.000000      0.000000  \n",
              "25%        8.000000      0.000000  \n",
              "50%       10.000000      0.000000  \n",
              "75%       12.000000      1.000000  \n",
              "max      169.000000      1.000000  "
            ],
            "text/html": [
              "\n",
              "  <div id=\"df-87cf91ce-2861-42ef-86ae-c2f4a8fbc47d\">\n",
              "    <div class=\"colab-df-container\">\n",
              "      <div>\n",
              "<style scoped>\n",
              "    .dataframe tbody tr th:only-of-type {\n",
              "        vertical-align: middle;\n",
              "    }\n",
              "\n",
              "    .dataframe tbody tr th {\n",
              "        vertical-align: top;\n",
              "    }\n",
              "\n",
              "    .dataframe thead th {\n",
              "        text-align: right;\n",
              "    }\n",
              "</style>\n",
              "<table border=\"1\" class=\"dataframe\">\n",
              "  <thead>\n",
              "    <tr style=\"text-align: right;\">\n",
              "      <th></th>\n",
              "      <th>danceability</th>\n",
              "      <th>energy</th>\n",
              "      <th>key</th>\n",
              "      <th>loudness</th>\n",
              "      <th>mode</th>\n",
              "      <th>speechiness</th>\n",
              "      <th>acousticness</th>\n",
              "      <th>instrumentalness</th>\n",
              "      <th>liveness</th>\n",
              "      <th>valence</th>\n",
              "      <th>tempo</th>\n",
              "      <th>duration_ms</th>\n",
              "      <th>time_signature</th>\n",
              "      <th>chorus_hit</th>\n",
              "      <th>sections</th>\n",
              "      <th>popularity</th>\n",
              "    </tr>\n",
              "  </thead>\n",
              "  <tbody>\n",
              "    <tr>\n",
              "      <th>count</th>\n",
              "      <td>41099.000000</td>\n",
              "      <td>41099.000000</td>\n",
              "      <td>41099.000000</td>\n",
              "      <td>41099.000000</td>\n",
              "      <td>41099.000000</td>\n",
              "      <td>41099.000000</td>\n",
              "      <td>41099.000000</td>\n",
              "      <td>41099.000000</td>\n",
              "      <td>41099.000000</td>\n",
              "      <td>41099.000000</td>\n",
              "      <td>41099.000000</td>\n",
              "      <td>4.109900e+04</td>\n",
              "      <td>41099.000000</td>\n",
              "      <td>41099.000000</td>\n",
              "      <td>41099.000000</td>\n",
              "      <td>41099.000000</td>\n",
              "    </tr>\n",
              "    <tr>\n",
              "      <th>mean</th>\n",
              "      <td>0.539683</td>\n",
              "      <td>0.579544</td>\n",
              "      <td>5.213752</td>\n",
              "      <td>-10.221446</td>\n",
              "      <td>0.693375</td>\n",
              "      <td>0.072952</td>\n",
              "      <td>0.364232</td>\n",
              "      <td>0.154403</td>\n",
              "      <td>0.201534</td>\n",
              "      <td>0.542450</td>\n",
              "      <td>119.336349</td>\n",
              "      <td>2.348755e+05</td>\n",
              "      <td>3.893647</td>\n",
              "      <td>40.106896</td>\n",
              "      <td>10.475632</td>\n",
              "      <td>0.499964</td>\n",
              "    </tr>\n",
              "    <tr>\n",
              "      <th>std</th>\n",
              "      <td>0.177808</td>\n",
              "      <td>0.252629</td>\n",
              "      <td>3.535060</td>\n",
              "      <td>5.311227</td>\n",
              "      <td>0.461098</td>\n",
              "      <td>0.086106</td>\n",
              "      <td>0.338908</td>\n",
              "      <td>0.303518</td>\n",
              "      <td>0.172957</td>\n",
              "      <td>0.267333</td>\n",
              "      <td>29.099116</td>\n",
              "      <td>1.189696e+05</td>\n",
              "      <td>0.423072</td>\n",
              "      <td>19.006697</td>\n",
              "      <td>4.872026</td>\n",
              "      <td>0.500006</td>\n",
              "    </tr>\n",
              "    <tr>\n",
              "      <th>min</th>\n",
              "      <td>0.000000</td>\n",
              "      <td>0.000251</td>\n",
              "      <td>0.000000</td>\n",
              "      <td>-49.253000</td>\n",
              "      <td>0.000000</td>\n",
              "      <td>0.000000</td>\n",
              "      <td>0.000000</td>\n",
              "      <td>0.000000</td>\n",
              "      <td>0.013000</td>\n",
              "      <td>0.000000</td>\n",
              "      <td>0.000000</td>\n",
              "      <td>1.516800e+04</td>\n",
              "      <td>0.000000</td>\n",
              "      <td>0.000000</td>\n",
              "      <td>0.000000</td>\n",
              "      <td>0.000000</td>\n",
              "    </tr>\n",
              "    <tr>\n",
              "      <th>25%</th>\n",
              "      <td>0.420000</td>\n",
              "      <td>0.396000</td>\n",
              "      <td>2.000000</td>\n",
              "      <td>-12.816500</td>\n",
              "      <td>0.000000</td>\n",
              "      <td>0.033700</td>\n",
              "      <td>0.039400</td>\n",
              "      <td>0.000000</td>\n",
              "      <td>0.094000</td>\n",
              "      <td>0.330000</td>\n",
              "      <td>97.395500</td>\n",
              "      <td>1.729165e+05</td>\n",
              "      <td>4.000000</td>\n",
              "      <td>27.599510</td>\n",
              "      <td>8.000000</td>\n",
              "      <td>0.000000</td>\n",
              "    </tr>\n",
              "    <tr>\n",
              "      <th>50%</th>\n",
              "      <td>0.552000</td>\n",
              "      <td>0.601000</td>\n",
              "      <td>5.000000</td>\n",
              "      <td>-9.257000</td>\n",
              "      <td>1.000000</td>\n",
              "      <td>0.043400</td>\n",
              "      <td>0.258000</td>\n",
              "      <td>0.000120</td>\n",
              "      <td>0.132000</td>\n",
              "      <td>0.559000</td>\n",
              "      <td>117.564000</td>\n",
              "      <td>2.179070e+05</td>\n",
              "      <td>4.000000</td>\n",
              "      <td>35.850270</td>\n",
              "      <td>10.000000</td>\n",
              "      <td>0.000000</td>\n",
              "    </tr>\n",
              "    <tr>\n",
              "      <th>75%</th>\n",
              "      <td>0.669000</td>\n",
              "      <td>0.787000</td>\n",
              "      <td>8.000000</td>\n",
              "      <td>-6.375000</td>\n",
              "      <td>1.000000</td>\n",
              "      <td>0.069800</td>\n",
              "      <td>0.676000</td>\n",
              "      <td>0.061200</td>\n",
              "      <td>0.261000</td>\n",
              "      <td>0.768000</td>\n",
              "      <td>136.492000</td>\n",
              "      <td>2.667730e+05</td>\n",
              "      <td>4.000000</td>\n",
              "      <td>47.627240</td>\n",
              "      <td>12.000000</td>\n",
              "      <td>1.000000</td>\n",
              "    </tr>\n",
              "    <tr>\n",
              "      <th>max</th>\n",
              "      <td>0.988000</td>\n",
              "      <td>1.000000</td>\n",
              "      <td>11.000000</td>\n",
              "      <td>3.744000</td>\n",
              "      <td>1.000000</td>\n",
              "      <td>0.960000</td>\n",
              "      <td>0.996000</td>\n",
              "      <td>1.000000</td>\n",
              "      <td>0.999000</td>\n",
              "      <td>0.996000</td>\n",
              "      <td>241.423000</td>\n",
              "      <td>4.170227e+06</td>\n",
              "      <td>5.000000</td>\n",
              "      <td>433.182000</td>\n",
              "      <td>169.000000</td>\n",
              "      <td>1.000000</td>\n",
              "    </tr>\n",
              "  </tbody>\n",
              "</table>\n",
              "</div>\n",
              "      <button class=\"colab-df-convert\" onclick=\"convertToInteractive('df-87cf91ce-2861-42ef-86ae-c2f4a8fbc47d')\"\n",
              "              title=\"Convert this dataframe to an interactive table.\"\n",
              "              style=\"display:none;\">\n",
              "        \n",
              "  <svg xmlns=\"http://www.w3.org/2000/svg\" height=\"24px\"viewBox=\"0 0 24 24\"\n",
              "       width=\"24px\">\n",
              "    <path d=\"M0 0h24v24H0V0z\" fill=\"none\"/>\n",
              "    <path d=\"M18.56 5.44l.94 2.06.94-2.06 2.06-.94-2.06-.94-.94-2.06-.94 2.06-2.06.94zm-11 1L8.5 8.5l.94-2.06 2.06-.94-2.06-.94L8.5 2.5l-.94 2.06-2.06.94zm10 10l.94 2.06.94-2.06 2.06-.94-2.06-.94-.94-2.06-.94 2.06-2.06.94z\"/><path d=\"M17.41 7.96l-1.37-1.37c-.4-.4-.92-.59-1.43-.59-.52 0-1.04.2-1.43.59L10.3 9.45l-7.72 7.72c-.78.78-.78 2.05 0 2.83L4 21.41c.39.39.9.59 1.41.59.51 0 1.02-.2 1.41-.59l7.78-7.78 2.81-2.81c.8-.78.8-2.07 0-2.86zM5.41 20L4 18.59l7.72-7.72 1.47 1.35L5.41 20z\"/>\n",
              "  </svg>\n",
              "      </button>\n",
              "      \n",
              "  <style>\n",
              "    .colab-df-container {\n",
              "      display:flex;\n",
              "      flex-wrap:wrap;\n",
              "      gap: 12px;\n",
              "    }\n",
              "\n",
              "    .colab-df-convert {\n",
              "      background-color: #E8F0FE;\n",
              "      border: none;\n",
              "      border-radius: 50%;\n",
              "      cursor: pointer;\n",
              "      display: none;\n",
              "      fill: #1967D2;\n",
              "      height: 32px;\n",
              "      padding: 0 0 0 0;\n",
              "      width: 32px;\n",
              "    }\n",
              "\n",
              "    .colab-df-convert:hover {\n",
              "      background-color: #E2EBFA;\n",
              "      box-shadow: 0px 1px 2px rgba(60, 64, 67, 0.3), 0px 1px 3px 1px rgba(60, 64, 67, 0.15);\n",
              "      fill: #174EA6;\n",
              "    }\n",
              "\n",
              "    [theme=dark] .colab-df-convert {\n",
              "      background-color: #3B4455;\n",
              "      fill: #D2E3FC;\n",
              "    }\n",
              "\n",
              "    [theme=dark] .colab-df-convert:hover {\n",
              "      background-color: #434B5C;\n",
              "      box-shadow: 0px 1px 3px 1px rgba(0, 0, 0, 0.15);\n",
              "      filter: drop-shadow(0px 1px 2px rgba(0, 0, 0, 0.3));\n",
              "      fill: #FFFFFF;\n",
              "    }\n",
              "  </style>\n",
              "\n",
              "      <script>\n",
              "        const buttonEl =\n",
              "          document.querySelector('#df-87cf91ce-2861-42ef-86ae-c2f4a8fbc47d button.colab-df-convert');\n",
              "        buttonEl.style.display =\n",
              "          google.colab.kernel.accessAllowed ? 'block' : 'none';\n",
              "\n",
              "        async function convertToInteractive(key) {\n",
              "          const element = document.querySelector('#df-87cf91ce-2861-42ef-86ae-c2f4a8fbc47d');\n",
              "          const dataTable =\n",
              "            await google.colab.kernel.invokeFunction('convertToInteractive',\n",
              "                                                     [key], {});\n",
              "          if (!dataTable) return;\n",
              "\n",
              "          const docLinkHtml = 'Like what you see? Visit the ' +\n",
              "            '<a target=\"_blank\" href=https://colab.research.google.com/notebooks/data_table.ipynb>data table notebook</a>'\n",
              "            + ' to learn more about interactive tables.';\n",
              "          element.innerHTML = '';\n",
              "          dataTable['output_type'] = 'display_data';\n",
              "          await google.colab.output.renderOutput(dataTable, element);\n",
              "          const docLink = document.createElement('div');\n",
              "          docLink.innerHTML = docLinkHtml;\n",
              "          element.appendChild(docLink);\n",
              "        }\n",
              "      </script>\n",
              "    </div>\n",
              "  </div>\n",
              "  "
            ]
          },
          "metadata": {},
          "execution_count": 11
        }
      ]
    },
    {
      "cell_type": "code",
      "source": [
        "music['energy']"
      ],
      "metadata": {
        "colab": {
          "base_uri": "https://localhost:8080/"
        },
        "id": "2orNXU6UUtyV",
        "outputId": "079247a7-904b-46e7-d064-5925b66a44fe"
      },
      "execution_count": null,
      "outputs": [
        {
          "output_type": "execute_result",
          "data": {
            "text/plain": [
              "0        0.620\n",
              "1        0.505\n",
              "2        0.649\n",
              "3        0.545\n",
              "4        0.765\n",
              "         ...  \n",
              "41094    0.358\n",
              "41095    0.366\n",
              "41096    0.804\n",
              "41097    0.177\n",
              "41098    0.123\n",
              "Name: energy, Length: 41099, dtype: float64"
            ]
          },
          "metadata": {},
          "execution_count": 56
        }
      ]
    },
    {
      "cell_type": "code",
      "source": [
        "music[music['energy'] == 1.0]"
      ],
      "metadata": {
        "colab": {
          "base_uri": "https://localhost:8080/",
          "height": 326
        },
        "id": "_y2CWyZAU3hm",
        "outputId": "eb4edac3-0e2d-4b54-8c0d-1e01179cef95"
      },
      "execution_count": null,
      "outputs": [
        {
          "output_type": "execute_result",
          "data": {
            "text/plain": [
              "                    track    artist                                   uri  \\\n",
              "17454        Endless Rain  Nataural  spotify:track:3xNMoalU3NRwgcQMfpNnmo   \n",
              "17704       Dripping Rain  Nataural  spotify:track:0TWYYsAFK3Hg2k3rob8mCb   \n",
              "22365  Under Shelter Rain  Nataural  spotify:track:4WjgebiAotVKXyxix0oQRa   \n",
              "22663        Pouring Rain  Nataural  spotify:track:07ILGDMJdj609RqKaoDiVz   \n",
              "\n",
              "       danceability  energy  key  loudness  mode  speechiness  acousticness  \\\n",
              "17454         0.131     1.0    0   -13.429     1       0.0403         0.793   \n",
              "17704         0.154     1.0    7   -10.996     1       0.0827         0.160   \n",
              "22365         0.168     1.0    6   -10.890     0       0.0836         0.139   \n",
              "22663         0.162     1.0   11   -11.068     0       0.0622         0.124   \n",
              "\n",
              "       instrumentalness  liveness  valence    tempo  duration_ms  \\\n",
              "17454             0.548     0.963  0.00001  100.661       128615   \n",
              "17704             0.988     0.891  0.00001  134.026       190334   \n",
              "22365             0.999     0.928  0.00001  113.632       167137   \n",
              "22663             0.990     0.918  0.00001   82.055       162122   \n",
              "\n",
              "       time_signature  chorus_hit  sections  popularity decade  \n",
              "17454               3    24.89065         8           0    80s  \n",
              "17704               4    26.65989        10           0    80s  \n",
              "22365               3    22.71794        10           0    80s  \n",
              "22663               4    31.34900         6           0    80s  "
            ],
            "text/html": [
              "\n",
              "  <div id=\"df-4158f4d0-6605-48f4-92cb-009984b8f93c\">\n",
              "    <div class=\"colab-df-container\">\n",
              "      <div>\n",
              "<style scoped>\n",
              "    .dataframe tbody tr th:only-of-type {\n",
              "        vertical-align: middle;\n",
              "    }\n",
              "\n",
              "    .dataframe tbody tr th {\n",
              "        vertical-align: top;\n",
              "    }\n",
              "\n",
              "    .dataframe thead th {\n",
              "        text-align: right;\n",
              "    }\n",
              "</style>\n",
              "<table border=\"1\" class=\"dataframe\">\n",
              "  <thead>\n",
              "    <tr style=\"text-align: right;\">\n",
              "      <th></th>\n",
              "      <th>track</th>\n",
              "      <th>artist</th>\n",
              "      <th>uri</th>\n",
              "      <th>danceability</th>\n",
              "      <th>energy</th>\n",
              "      <th>key</th>\n",
              "      <th>loudness</th>\n",
              "      <th>mode</th>\n",
              "      <th>speechiness</th>\n",
              "      <th>acousticness</th>\n",
              "      <th>instrumentalness</th>\n",
              "      <th>liveness</th>\n",
              "      <th>valence</th>\n",
              "      <th>tempo</th>\n",
              "      <th>duration_ms</th>\n",
              "      <th>time_signature</th>\n",
              "      <th>chorus_hit</th>\n",
              "      <th>sections</th>\n",
              "      <th>popularity</th>\n",
              "      <th>decade</th>\n",
              "    </tr>\n",
              "  </thead>\n",
              "  <tbody>\n",
              "    <tr>\n",
              "      <th>17454</th>\n",
              "      <td>Endless Rain</td>\n",
              "      <td>Nataural</td>\n",
              "      <td>spotify:track:3xNMoalU3NRwgcQMfpNnmo</td>\n",
              "      <td>0.131</td>\n",
              "      <td>1.0</td>\n",
              "      <td>0</td>\n",
              "      <td>-13.429</td>\n",
              "      <td>1</td>\n",
              "      <td>0.0403</td>\n",
              "      <td>0.793</td>\n",
              "      <td>0.548</td>\n",
              "      <td>0.963</td>\n",
              "      <td>0.00001</td>\n",
              "      <td>100.661</td>\n",
              "      <td>128615</td>\n",
              "      <td>3</td>\n",
              "      <td>24.89065</td>\n",
              "      <td>8</td>\n",
              "      <td>0</td>\n",
              "      <td>80s</td>\n",
              "    </tr>\n",
              "    <tr>\n",
              "      <th>17704</th>\n",
              "      <td>Dripping Rain</td>\n",
              "      <td>Nataural</td>\n",
              "      <td>spotify:track:0TWYYsAFK3Hg2k3rob8mCb</td>\n",
              "      <td>0.154</td>\n",
              "      <td>1.0</td>\n",
              "      <td>7</td>\n",
              "      <td>-10.996</td>\n",
              "      <td>1</td>\n",
              "      <td>0.0827</td>\n",
              "      <td>0.160</td>\n",
              "      <td>0.988</td>\n",
              "      <td>0.891</td>\n",
              "      <td>0.00001</td>\n",
              "      <td>134.026</td>\n",
              "      <td>190334</td>\n",
              "      <td>4</td>\n",
              "      <td>26.65989</td>\n",
              "      <td>10</td>\n",
              "      <td>0</td>\n",
              "      <td>80s</td>\n",
              "    </tr>\n",
              "    <tr>\n",
              "      <th>22365</th>\n",
              "      <td>Under Shelter Rain</td>\n",
              "      <td>Nataural</td>\n",
              "      <td>spotify:track:4WjgebiAotVKXyxix0oQRa</td>\n",
              "      <td>0.168</td>\n",
              "      <td>1.0</td>\n",
              "      <td>6</td>\n",
              "      <td>-10.890</td>\n",
              "      <td>0</td>\n",
              "      <td>0.0836</td>\n",
              "      <td>0.139</td>\n",
              "      <td>0.999</td>\n",
              "      <td>0.928</td>\n",
              "      <td>0.00001</td>\n",
              "      <td>113.632</td>\n",
              "      <td>167137</td>\n",
              "      <td>3</td>\n",
              "      <td>22.71794</td>\n",
              "      <td>10</td>\n",
              "      <td>0</td>\n",
              "      <td>80s</td>\n",
              "    </tr>\n",
              "    <tr>\n",
              "      <th>22663</th>\n",
              "      <td>Pouring Rain</td>\n",
              "      <td>Nataural</td>\n",
              "      <td>spotify:track:07ILGDMJdj609RqKaoDiVz</td>\n",
              "      <td>0.162</td>\n",
              "      <td>1.0</td>\n",
              "      <td>11</td>\n",
              "      <td>-11.068</td>\n",
              "      <td>0</td>\n",
              "      <td>0.0622</td>\n",
              "      <td>0.124</td>\n",
              "      <td>0.990</td>\n",
              "      <td>0.918</td>\n",
              "      <td>0.00001</td>\n",
              "      <td>82.055</td>\n",
              "      <td>162122</td>\n",
              "      <td>4</td>\n",
              "      <td>31.34900</td>\n",
              "      <td>6</td>\n",
              "      <td>0</td>\n",
              "      <td>80s</td>\n",
              "    </tr>\n",
              "  </tbody>\n",
              "</table>\n",
              "</div>\n",
              "      <button class=\"colab-df-convert\" onclick=\"convertToInteractive('df-4158f4d0-6605-48f4-92cb-009984b8f93c')\"\n",
              "              title=\"Convert this dataframe to an interactive table.\"\n",
              "              style=\"display:none;\">\n",
              "        \n",
              "  <svg xmlns=\"http://www.w3.org/2000/svg\" height=\"24px\"viewBox=\"0 0 24 24\"\n",
              "       width=\"24px\">\n",
              "    <path d=\"M0 0h24v24H0V0z\" fill=\"none\"/>\n",
              "    <path d=\"M18.56 5.44l.94 2.06.94-2.06 2.06-.94-2.06-.94-.94-2.06-.94 2.06-2.06.94zm-11 1L8.5 8.5l.94-2.06 2.06-.94-2.06-.94L8.5 2.5l-.94 2.06-2.06.94zm10 10l.94 2.06.94-2.06 2.06-.94-2.06-.94-.94-2.06-.94 2.06-2.06.94z\"/><path d=\"M17.41 7.96l-1.37-1.37c-.4-.4-.92-.59-1.43-.59-.52 0-1.04.2-1.43.59L10.3 9.45l-7.72 7.72c-.78.78-.78 2.05 0 2.83L4 21.41c.39.39.9.59 1.41.59.51 0 1.02-.2 1.41-.59l7.78-7.78 2.81-2.81c.8-.78.8-2.07 0-2.86zM5.41 20L4 18.59l7.72-7.72 1.47 1.35L5.41 20z\"/>\n",
              "  </svg>\n",
              "      </button>\n",
              "      \n",
              "  <style>\n",
              "    .colab-df-container {\n",
              "      display:flex;\n",
              "      flex-wrap:wrap;\n",
              "      gap: 12px;\n",
              "    }\n",
              "\n",
              "    .colab-df-convert {\n",
              "      background-color: #E8F0FE;\n",
              "      border: none;\n",
              "      border-radius: 50%;\n",
              "      cursor: pointer;\n",
              "      display: none;\n",
              "      fill: #1967D2;\n",
              "      height: 32px;\n",
              "      padding: 0 0 0 0;\n",
              "      width: 32px;\n",
              "    }\n",
              "\n",
              "    .colab-df-convert:hover {\n",
              "      background-color: #E2EBFA;\n",
              "      box-shadow: 0px 1px 2px rgba(60, 64, 67, 0.3), 0px 1px 3px 1px rgba(60, 64, 67, 0.15);\n",
              "      fill: #174EA6;\n",
              "    }\n",
              "\n",
              "    [theme=dark] .colab-df-convert {\n",
              "      background-color: #3B4455;\n",
              "      fill: #D2E3FC;\n",
              "    }\n",
              "\n",
              "    [theme=dark] .colab-df-convert:hover {\n",
              "      background-color: #434B5C;\n",
              "      box-shadow: 0px 1px 3px 1px rgba(0, 0, 0, 0.15);\n",
              "      filter: drop-shadow(0px 1px 2px rgba(0, 0, 0, 0.3));\n",
              "      fill: #FFFFFF;\n",
              "    }\n",
              "  </style>\n",
              "\n",
              "      <script>\n",
              "        const buttonEl =\n",
              "          document.querySelector('#df-4158f4d0-6605-48f4-92cb-009984b8f93c button.colab-df-convert');\n",
              "        buttonEl.style.display =\n",
              "          google.colab.kernel.accessAllowed ? 'block' : 'none';\n",
              "\n",
              "        async function convertToInteractive(key) {\n",
              "          const element = document.querySelector('#df-4158f4d0-6605-48f4-92cb-009984b8f93c');\n",
              "          const dataTable =\n",
              "            await google.colab.kernel.invokeFunction('convertToInteractive',\n",
              "                                                     [key], {});\n",
              "          if (!dataTable) return;\n",
              "\n",
              "          const docLinkHtml = 'Like what you see? Visit the ' +\n",
              "            '<a target=\"_blank\" href=https://colab.research.google.com/notebooks/data_table.ipynb>data table notebook</a>'\n",
              "            + ' to learn more about interactive tables.';\n",
              "          element.innerHTML = '';\n",
              "          dataTable['output_type'] = 'display_data';\n",
              "          await google.colab.output.renderOutput(dataTable, element);\n",
              "          const docLink = document.createElement('div');\n",
              "          docLink.innerHTML = docLinkHtml;\n",
              "          element.appendChild(docLink);\n",
              "        }\n",
              "      </script>\n",
              "    </div>\n",
              "  </div>\n",
              "  "
            ]
          },
          "metadata": {},
          "execution_count": 59
        }
      ]
    },
    {
      "cell_type": "code",
      "source": [
        "music.tail()"
      ],
      "metadata": {
        "id": "sWPI0nByVs1B",
        "outputId": "345b2b90-b8ea-44d4-efdd-650d9163735c",
        "colab": {
          "base_uri": "https://localhost:8080/",
          "height": 374
        }
      },
      "execution_count": null,
      "outputs": [
        {
          "output_type": "execute_result",
          "data": {
            "text/plain": [
              "                   track          artist  \\\n",
              "41094      Lotus Flowers           Yolta   \n",
              "41095  Calling My Spirit     Kodak Black   \n",
              "41096      Teenage Dream      Katy Perry   \n",
              "41097     Stormy Weather  Oscar Peterson   \n",
              "41098               Dust     Hans Zimmer   \n",
              "\n",
              "                                        uri  danceability  energy  key  \\\n",
              "41094  spotify:track:4t1TljQWJ6ZuoSY67zVvBI         0.172   0.358    9   \n",
              "41095  spotify:track:2MShy1GSSgbmGUxADNIao5         0.910   0.366    1   \n",
              "41096  spotify:track:55qBw1900pZKfXJ6Q9A2Lc         0.719   0.804   10   \n",
              "41097  spotify:track:4o9npmYHrOF1rUxxTVH8h4         0.600   0.177    7   \n",
              "41098  spotify:track:2khIaVUkbMmDHB596lyMG3         0.121   0.123    4   \n",
              "\n",
              "       loudness  mode  speechiness  acousticness  instrumentalness  liveness  \\\n",
              "41094   -14.430     1       0.0342        0.8860          0.966000     0.314   \n",
              "41095    -9.954     1       0.0941        0.0996          0.000000     0.261   \n",
              "41096    -4.581     1       0.0355        0.0132          0.000003     0.139   \n",
              "41097   -16.070     1       0.0561        0.9890          0.868000     0.149   \n",
              "41098   -23.025     0       0.0443        0.9640          0.696000     0.103   \n",
              "\n",
              "       valence    tempo  duration_ms  time_signature  chorus_hit  sections  \\\n",
              "41094   0.0361   72.272       150857               4    24.30824         7   \n",
              "41095   0.7400  119.985       152000               4    32.53856         8   \n",
              "41096   0.6050  119.999       227760               4    20.73371         7   \n",
              "41097   0.5600  120.030       213387               4    21.65301        14   \n",
              "41098   0.0297   95.182       341396               4    71.05343        15   \n",
              "\n",
              "       popularity decade  \n",
              "41094           0    10s  \n",
              "41095           1    10s  \n",
              "41096           1    10s  \n",
              "41097           0    10s  \n",
              "41098           0    10s  "
            ],
            "text/html": [
              "\n",
              "  <div id=\"df-558d2be3-2801-440c-8156-1e910edd8542\">\n",
              "    <div class=\"colab-df-container\">\n",
              "      <div>\n",
              "<style scoped>\n",
              "    .dataframe tbody tr th:only-of-type {\n",
              "        vertical-align: middle;\n",
              "    }\n",
              "\n",
              "    .dataframe tbody tr th {\n",
              "        vertical-align: top;\n",
              "    }\n",
              "\n",
              "    .dataframe thead th {\n",
              "        text-align: right;\n",
              "    }\n",
              "</style>\n",
              "<table border=\"1\" class=\"dataframe\">\n",
              "  <thead>\n",
              "    <tr style=\"text-align: right;\">\n",
              "      <th></th>\n",
              "      <th>track</th>\n",
              "      <th>artist</th>\n",
              "      <th>uri</th>\n",
              "      <th>danceability</th>\n",
              "      <th>energy</th>\n",
              "      <th>key</th>\n",
              "      <th>loudness</th>\n",
              "      <th>mode</th>\n",
              "      <th>speechiness</th>\n",
              "      <th>acousticness</th>\n",
              "      <th>instrumentalness</th>\n",
              "      <th>liveness</th>\n",
              "      <th>valence</th>\n",
              "      <th>tempo</th>\n",
              "      <th>duration_ms</th>\n",
              "      <th>time_signature</th>\n",
              "      <th>chorus_hit</th>\n",
              "      <th>sections</th>\n",
              "      <th>popularity</th>\n",
              "      <th>decade</th>\n",
              "    </tr>\n",
              "  </thead>\n",
              "  <tbody>\n",
              "    <tr>\n",
              "      <th>41094</th>\n",
              "      <td>Lotus Flowers</td>\n",
              "      <td>Yolta</td>\n",
              "      <td>spotify:track:4t1TljQWJ6ZuoSY67zVvBI</td>\n",
              "      <td>0.172</td>\n",
              "      <td>0.358</td>\n",
              "      <td>9</td>\n",
              "      <td>-14.430</td>\n",
              "      <td>1</td>\n",
              "      <td>0.0342</td>\n",
              "      <td>0.8860</td>\n",
              "      <td>0.966000</td>\n",
              "      <td>0.314</td>\n",
              "      <td>0.0361</td>\n",
              "      <td>72.272</td>\n",
              "      <td>150857</td>\n",
              "      <td>4</td>\n",
              "      <td>24.30824</td>\n",
              "      <td>7</td>\n",
              "      <td>0</td>\n",
              "      <td>10s</td>\n",
              "    </tr>\n",
              "    <tr>\n",
              "      <th>41095</th>\n",
              "      <td>Calling My Spirit</td>\n",
              "      <td>Kodak Black</td>\n",
              "      <td>spotify:track:2MShy1GSSgbmGUxADNIao5</td>\n",
              "      <td>0.910</td>\n",
              "      <td>0.366</td>\n",
              "      <td>1</td>\n",
              "      <td>-9.954</td>\n",
              "      <td>1</td>\n",
              "      <td>0.0941</td>\n",
              "      <td>0.0996</td>\n",
              "      <td>0.000000</td>\n",
              "      <td>0.261</td>\n",
              "      <td>0.7400</td>\n",
              "      <td>119.985</td>\n",
              "      <td>152000</td>\n",
              "      <td>4</td>\n",
              "      <td>32.53856</td>\n",
              "      <td>8</td>\n",
              "      <td>1</td>\n",
              "      <td>10s</td>\n",
              "    </tr>\n",
              "    <tr>\n",
              "      <th>41096</th>\n",
              "      <td>Teenage Dream</td>\n",
              "      <td>Katy Perry</td>\n",
              "      <td>spotify:track:55qBw1900pZKfXJ6Q9A2Lc</td>\n",
              "      <td>0.719</td>\n",
              "      <td>0.804</td>\n",
              "      <td>10</td>\n",
              "      <td>-4.581</td>\n",
              "      <td>1</td>\n",
              "      <td>0.0355</td>\n",
              "      <td>0.0132</td>\n",
              "      <td>0.000003</td>\n",
              "      <td>0.139</td>\n",
              "      <td>0.6050</td>\n",
              "      <td>119.999</td>\n",
              "      <td>227760</td>\n",
              "      <td>4</td>\n",
              "      <td>20.73371</td>\n",
              "      <td>7</td>\n",
              "      <td>1</td>\n",
              "      <td>10s</td>\n",
              "    </tr>\n",
              "    <tr>\n",
              "      <th>41097</th>\n",
              "      <td>Stormy Weather</td>\n",
              "      <td>Oscar Peterson</td>\n",
              "      <td>spotify:track:4o9npmYHrOF1rUxxTVH8h4</td>\n",
              "      <td>0.600</td>\n",
              "      <td>0.177</td>\n",
              "      <td>7</td>\n",
              "      <td>-16.070</td>\n",
              "      <td>1</td>\n",
              "      <td>0.0561</td>\n",
              "      <td>0.9890</td>\n",
              "      <td>0.868000</td>\n",
              "      <td>0.149</td>\n",
              "      <td>0.5600</td>\n",
              "      <td>120.030</td>\n",
              "      <td>213387</td>\n",
              "      <td>4</td>\n",
              "      <td>21.65301</td>\n",
              "      <td>14</td>\n",
              "      <td>0</td>\n",
              "      <td>10s</td>\n",
              "    </tr>\n",
              "    <tr>\n",
              "      <th>41098</th>\n",
              "      <td>Dust</td>\n",
              "      <td>Hans Zimmer</td>\n",
              "      <td>spotify:track:2khIaVUkbMmDHB596lyMG3</td>\n",
              "      <td>0.121</td>\n",
              "      <td>0.123</td>\n",
              "      <td>4</td>\n",
              "      <td>-23.025</td>\n",
              "      <td>0</td>\n",
              "      <td>0.0443</td>\n",
              "      <td>0.9640</td>\n",
              "      <td>0.696000</td>\n",
              "      <td>0.103</td>\n",
              "      <td>0.0297</td>\n",
              "      <td>95.182</td>\n",
              "      <td>341396</td>\n",
              "      <td>4</td>\n",
              "      <td>71.05343</td>\n",
              "      <td>15</td>\n",
              "      <td>0</td>\n",
              "      <td>10s</td>\n",
              "    </tr>\n",
              "  </tbody>\n",
              "</table>\n",
              "</div>\n",
              "      <button class=\"colab-df-convert\" onclick=\"convertToInteractive('df-558d2be3-2801-440c-8156-1e910edd8542')\"\n",
              "              title=\"Convert this dataframe to an interactive table.\"\n",
              "              style=\"display:none;\">\n",
              "        \n",
              "  <svg xmlns=\"http://www.w3.org/2000/svg\" height=\"24px\"viewBox=\"0 0 24 24\"\n",
              "       width=\"24px\">\n",
              "    <path d=\"M0 0h24v24H0V0z\" fill=\"none\"/>\n",
              "    <path d=\"M18.56 5.44l.94 2.06.94-2.06 2.06-.94-2.06-.94-.94-2.06-.94 2.06-2.06.94zm-11 1L8.5 8.5l.94-2.06 2.06-.94-2.06-.94L8.5 2.5l-.94 2.06-2.06.94zm10 10l.94 2.06.94-2.06 2.06-.94-2.06-.94-.94-2.06-.94 2.06-2.06.94z\"/><path d=\"M17.41 7.96l-1.37-1.37c-.4-.4-.92-.59-1.43-.59-.52 0-1.04.2-1.43.59L10.3 9.45l-7.72 7.72c-.78.78-.78 2.05 0 2.83L4 21.41c.39.39.9.59 1.41.59.51 0 1.02-.2 1.41-.59l7.78-7.78 2.81-2.81c.8-.78.8-2.07 0-2.86zM5.41 20L4 18.59l7.72-7.72 1.47 1.35L5.41 20z\"/>\n",
              "  </svg>\n",
              "      </button>\n",
              "      \n",
              "  <style>\n",
              "    .colab-df-container {\n",
              "      display:flex;\n",
              "      flex-wrap:wrap;\n",
              "      gap: 12px;\n",
              "    }\n",
              "\n",
              "    .colab-df-convert {\n",
              "      background-color: #E8F0FE;\n",
              "      border: none;\n",
              "      border-radius: 50%;\n",
              "      cursor: pointer;\n",
              "      display: none;\n",
              "      fill: #1967D2;\n",
              "      height: 32px;\n",
              "      padding: 0 0 0 0;\n",
              "      width: 32px;\n",
              "    }\n",
              "\n",
              "    .colab-df-convert:hover {\n",
              "      background-color: #E2EBFA;\n",
              "      box-shadow: 0px 1px 2px rgba(60, 64, 67, 0.3), 0px 1px 3px 1px rgba(60, 64, 67, 0.15);\n",
              "      fill: #174EA6;\n",
              "    }\n",
              "\n",
              "    [theme=dark] .colab-df-convert {\n",
              "      background-color: #3B4455;\n",
              "      fill: #D2E3FC;\n",
              "    }\n",
              "\n",
              "    [theme=dark] .colab-df-convert:hover {\n",
              "      background-color: #434B5C;\n",
              "      box-shadow: 0px 1px 3px 1px rgba(0, 0, 0, 0.15);\n",
              "      filter: drop-shadow(0px 1px 2px rgba(0, 0, 0, 0.3));\n",
              "      fill: #FFFFFF;\n",
              "    }\n",
              "  </style>\n",
              "\n",
              "      <script>\n",
              "        const buttonEl =\n",
              "          document.querySelector('#df-558d2be3-2801-440c-8156-1e910edd8542 button.colab-df-convert');\n",
              "        buttonEl.style.display =\n",
              "          google.colab.kernel.accessAllowed ? 'block' : 'none';\n",
              "\n",
              "        async function convertToInteractive(key) {\n",
              "          const element = document.querySelector('#df-558d2be3-2801-440c-8156-1e910edd8542');\n",
              "          const dataTable =\n",
              "            await google.colab.kernel.invokeFunction('convertToInteractive',\n",
              "                                                     [key], {});\n",
              "          if (!dataTable) return;\n",
              "\n",
              "          const docLinkHtml = 'Like what you see? Visit the ' +\n",
              "            '<a target=\"_blank\" href=https://colab.research.google.com/notebooks/data_table.ipynb>data table notebook</a>'\n",
              "            + ' to learn more about interactive tables.';\n",
              "          element.innerHTML = '';\n",
              "          dataTable['output_type'] = 'display_data';\n",
              "          await google.colab.output.renderOutput(dataTable, element);\n",
              "          const docLink = document.createElement('div');\n",
              "          docLink.innerHTML = docLinkHtml;\n",
              "          element.appendChild(docLink);\n",
              "        }\n",
              "      </script>\n",
              "    </div>\n",
              "  </div>\n",
              "  "
            ]
          },
          "metadata": {},
          "execution_count": 60
        }
      ]
    },
    {
      "cell_type": "code",
      "source": [
        "music['duration_ms'].mode()"
      ],
      "metadata": {
        "colab": {
          "base_uri": "https://localhost:8080/"
        },
        "id": "jeQ7fnlwfvwS",
        "outputId": "e96a0096-9431-477d-9d91-27d8cc2e99c3"
      },
      "execution_count": null,
      "outputs": [
        {
          "output_type": "execute_result",
          "data": {
            "text/plain": [
              "0    192000\n",
              "1    196000\n",
              "2    240000\n",
              "3    321853\n",
              "dtype: int64"
            ]
          },
          "metadata": {},
          "execution_count": 12
        }
      ]
    },
    {
      "cell_type": "code",
      "source": [
        "music['duration_ms'].max() - music['duration_ms'].min()"
      ],
      "metadata": {
        "colab": {
          "base_uri": "https://localhost:8080/"
        },
        "id": "uMhLms8kgA7m",
        "outputId": "1c4a79a4-28d3-4681-ae12-4d10ff5b8d99"
      },
      "execution_count": null,
      "outputs": [
        {
          "output_type": "execute_result",
          "data": {
            "text/plain": [
              "4155059"
            ]
          },
          "metadata": {},
          "execution_count": 13
        }
      ]
    },
    {
      "cell_type": "code",
      "source": [
        "freq_table = pd.crosstab(music['duration_ms'], 'frequency')\n",
        "freq_table.head()"
      ],
      "metadata": {
        "colab": {
          "base_uri": "https://localhost:8080/",
          "height": 238
        },
        "id": "SexUM8cFgs4F",
        "outputId": "a9e8d060-2e4e-4db0-ef50-2e0d2f6965c8"
      },
      "execution_count": null,
      "outputs": [
        {
          "output_type": "execute_result",
          "data": {
            "text/plain": [
              "col_0        frequency\n",
              "duration_ms           \n",
              "15168                1\n",
              "15629                1\n",
              "15920                1\n",
              "19533                1\n",
              "20493                1"
            ],
            "text/html": [
              "\n",
              "  <div id=\"df-3c6e2df6-b1fe-4096-a2d8-5e72e278ec30\">\n",
              "    <div class=\"colab-df-container\">\n",
              "      <div>\n",
              "<style scoped>\n",
              "    .dataframe tbody tr th:only-of-type {\n",
              "        vertical-align: middle;\n",
              "    }\n",
              "\n",
              "    .dataframe tbody tr th {\n",
              "        vertical-align: top;\n",
              "    }\n",
              "\n",
              "    .dataframe thead th {\n",
              "        text-align: right;\n",
              "    }\n",
              "</style>\n",
              "<table border=\"1\" class=\"dataframe\">\n",
              "  <thead>\n",
              "    <tr style=\"text-align: right;\">\n",
              "      <th>col_0</th>\n",
              "      <th>frequency</th>\n",
              "    </tr>\n",
              "    <tr>\n",
              "      <th>duration_ms</th>\n",
              "      <th></th>\n",
              "    </tr>\n",
              "  </thead>\n",
              "  <tbody>\n",
              "    <tr>\n",
              "      <th>15168</th>\n",
              "      <td>1</td>\n",
              "    </tr>\n",
              "    <tr>\n",
              "      <th>15629</th>\n",
              "      <td>1</td>\n",
              "    </tr>\n",
              "    <tr>\n",
              "      <th>15920</th>\n",
              "      <td>1</td>\n",
              "    </tr>\n",
              "    <tr>\n",
              "      <th>19533</th>\n",
              "      <td>1</td>\n",
              "    </tr>\n",
              "    <tr>\n",
              "      <th>20493</th>\n",
              "      <td>1</td>\n",
              "    </tr>\n",
              "  </tbody>\n",
              "</table>\n",
              "</div>\n",
              "      <button class=\"colab-df-convert\" onclick=\"convertToInteractive('df-3c6e2df6-b1fe-4096-a2d8-5e72e278ec30')\"\n",
              "              title=\"Convert this dataframe to an interactive table.\"\n",
              "              style=\"display:none;\">\n",
              "        \n",
              "  <svg xmlns=\"http://www.w3.org/2000/svg\" height=\"24px\"viewBox=\"0 0 24 24\"\n",
              "       width=\"24px\">\n",
              "    <path d=\"M0 0h24v24H0V0z\" fill=\"none\"/>\n",
              "    <path d=\"M18.56 5.44l.94 2.06.94-2.06 2.06-.94-2.06-.94-.94-2.06-.94 2.06-2.06.94zm-11 1L8.5 8.5l.94-2.06 2.06-.94-2.06-.94L8.5 2.5l-.94 2.06-2.06.94zm10 10l.94 2.06.94-2.06 2.06-.94-2.06-.94-.94-2.06-.94 2.06-2.06.94z\"/><path d=\"M17.41 7.96l-1.37-1.37c-.4-.4-.92-.59-1.43-.59-.52 0-1.04.2-1.43.59L10.3 9.45l-7.72 7.72c-.78.78-.78 2.05 0 2.83L4 21.41c.39.39.9.59 1.41.59.51 0 1.02-.2 1.41-.59l7.78-7.78 2.81-2.81c.8-.78.8-2.07 0-2.86zM5.41 20L4 18.59l7.72-7.72 1.47 1.35L5.41 20z\"/>\n",
              "  </svg>\n",
              "      </button>\n",
              "      \n",
              "  <style>\n",
              "    .colab-df-container {\n",
              "      display:flex;\n",
              "      flex-wrap:wrap;\n",
              "      gap: 12px;\n",
              "    }\n",
              "\n",
              "    .colab-df-convert {\n",
              "      background-color: #E8F0FE;\n",
              "      border: none;\n",
              "      border-radius: 50%;\n",
              "      cursor: pointer;\n",
              "      display: none;\n",
              "      fill: #1967D2;\n",
              "      height: 32px;\n",
              "      padding: 0 0 0 0;\n",
              "      width: 32px;\n",
              "    }\n",
              "\n",
              "    .colab-df-convert:hover {\n",
              "      background-color: #E2EBFA;\n",
              "      box-shadow: 0px 1px 2px rgba(60, 64, 67, 0.3), 0px 1px 3px 1px rgba(60, 64, 67, 0.15);\n",
              "      fill: #174EA6;\n",
              "    }\n",
              "\n",
              "    [theme=dark] .colab-df-convert {\n",
              "      background-color: #3B4455;\n",
              "      fill: #D2E3FC;\n",
              "    }\n",
              "\n",
              "    [theme=dark] .colab-df-convert:hover {\n",
              "      background-color: #434B5C;\n",
              "      box-shadow: 0px 1px 3px 1px rgba(0, 0, 0, 0.15);\n",
              "      filter: drop-shadow(0px 1px 2px rgba(0, 0, 0, 0.3));\n",
              "      fill: #FFFFFF;\n",
              "    }\n",
              "  </style>\n",
              "\n",
              "      <script>\n",
              "        const buttonEl =\n",
              "          document.querySelector('#df-3c6e2df6-b1fe-4096-a2d8-5e72e278ec30 button.colab-df-convert');\n",
              "        buttonEl.style.display =\n",
              "          google.colab.kernel.accessAllowed ? 'block' : 'none';\n",
              "\n",
              "        async function convertToInteractive(key) {\n",
              "          const element = document.querySelector('#df-3c6e2df6-b1fe-4096-a2d8-5e72e278ec30');\n",
              "          const dataTable =\n",
              "            await google.colab.kernel.invokeFunction('convertToInteractive',\n",
              "                                                     [key], {});\n",
              "          if (!dataTable) return;\n",
              "\n",
              "          const docLinkHtml = 'Like what you see? Visit the ' +\n",
              "            '<a target=\"_blank\" href=https://colab.research.google.com/notebooks/data_table.ipynb>data table notebook</a>'\n",
              "            + ' to learn more about interactive tables.';\n",
              "          element.innerHTML = '';\n",
              "          dataTable['output_type'] = 'display_data';\n",
              "          await google.colab.output.renderOutput(dataTable, element);\n",
              "          const docLink = document.createElement('div');\n",
              "          docLink.innerHTML = docLinkHtml;\n",
              "          element.appendChild(docLink);\n",
              "        }\n",
              "      </script>\n",
              "    </div>\n",
              "  </div>\n",
              "  "
            ]
          },
          "metadata": {},
          "execution_count": 19
        }
      ]
    },
    {
      "cell_type": "code",
      "source": [
        "freq_table_counts = music['key'].value_counts()\n",
        "\n",
        "freq_table_counts"
      ],
      "metadata": {
        "colab": {
          "base_uri": "https://localhost:8080/"
        },
        "id": "JnPTJkVtiomR",
        "outputId": "c8604d06-c975-44d7-f8bf-409879b04129"
      },
      "execution_count": null,
      "outputs": [
        {
          "output_type": "execute_result",
          "data": {
            "text/plain": [
              "0     5128\n",
              "7     4960\n",
              "2     4619\n",
              "9     4469\n",
              "5     3790\n",
              "4     3322\n",
              "1     3278\n",
              "11    2815\n",
              "10    2728\n",
              "8     2345\n",
              "6     2215\n",
              "3     1430\n",
              "Name: key, dtype: int64"
            ]
          },
          "metadata": {},
          "execution_count": 29
        }
      ]
    },
    {
      "cell_type": "code",
      "source": [
        "sum(freq_table_counts)/2"
      ],
      "metadata": {
        "colab": {
          "base_uri": "https://localhost:8080/"
        },
        "id": "XkR3D7O2APkX",
        "outputId": "1f888989-bf9c-4d53-ee03-6487f6125816"
      },
      "execution_count": null,
      "outputs": [
        {
          "output_type": "execute_result",
          "data": {
            "text/plain": [
              "20549.5"
            ]
          },
          "metadata": {},
          "execution_count": 33
        }
      ]
    },
    {
      "cell_type": "code",
      "source": [
        "freq_table_counts.median()"
      ],
      "metadata": {
        "colab": {
          "base_uri": "https://localhost:8080/"
        },
        "id": "M3A4m6Api2pP",
        "outputId": "f68e33bd-cee2-472f-cddf-559a8368d52a"
      },
      "execution_count": null,
      "outputs": [
        {
          "output_type": "execute_result",
          "data": {
            "text/plain": [
              "3300.0"
            ]
          },
          "metadata": {},
          "execution_count": 31
        }
      ]
    },
    {
      "cell_type": "code",
      "source": [
        "(5128*0+4960*7+4619*2+4469*9+3790*5+3322*4+3278*1+2815*11+2728*10+2345*8+2215*6+1430*3)/sum(freq_table_counts)"
      ],
      "metadata": {
        "colab": {
          "base_uri": "https://localhost:8080/"
        },
        "id": "EWZB0cBW_Rh4",
        "outputId": "dc9b2581-fc59-4343-9b9b-400b7783b5d3"
      },
      "execution_count": null,
      "outputs": [
        {
          "output_type": "execute_result",
          "data": {
            "text/plain": [
              "5.213752159419937"
            ]
          },
          "metadata": {},
          "execution_count": 34
        }
      ]
    },
    {
      "cell_type": "code",
      "source": [
        "freq_table_counts.mean()"
      ],
      "metadata": {
        "colab": {
          "base_uri": "https://localhost:8080/"
        },
        "id": "FS_JaFFsBjTD",
        "outputId": "862f4313-d6cc-456a-d9f5-3ad1e14e1d9c"
      },
      "execution_count": null,
      "outputs": [
        {
          "output_type": "execute_result",
          "data": {
            "text/plain": [
              "3424.9166666666665"
            ]
          },
          "metadata": {},
          "execution_count": 35
        }
      ]
    }
  ]
}